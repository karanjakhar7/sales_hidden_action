{
 "cells": [
  {
   "cell_type": "code",
   "execution_count": 28,
   "metadata": {},
   "outputs": [
    {
     "data": {
      "text/plain": [
       "dict_keys(['4tools', 'baselifesciences', 'bookstar', 'calmsea', 'deel', 'explorer', 'keeper', 'lasebane', 'mode', 'ss', 'stackcentral', 'xp'])"
      ]
     },
     "execution_count": 28,
     "metadata": {},
     "output_type": "execute_result"
    }
   ],
   "source": [
    "import os\n",
    "transcript_dir = r\"..\\transcripts\"\n",
    "\n",
    "transcripts = {}\n",
    "for filename in os.listdir(transcript_dir):\n",
    "    with open(os.path.join(transcript_dir, filename), 'r') as f:\n",
    "        transcripts[filename.split(\".\")[0]] = f.read()\n",
    "\n",
    "transcripts.keys()"
   ]
  },
  {
   "cell_type": "code",
   "execution_count": 2,
   "metadata": {},
   "outputs": [],
   "source": [
    "labels = {\n",
    "    \"4tools\": \"\"\"Priority: “Understand content workflow with multiple contractors so you can increase your engagement size from 10k to 20k\" (see 3:07 and 8:41)\n",
    "Event: “Trial expires in 8 days” (see 3:07 and 8:41)\n",
    "Date: <2 weeks from now> (see 43:18)\n",
    "Message: Hi Ryan, last we spoke, it was important to understand your content workflow across clients so you can scale up your engagement size to 20k. Your trial has ended. Wanted to reconnect to see if you’re ready to make a decision to proceed or not.\"\"\",\n",
    "    \n",
    "    \"bookstar\": \"\"\"Priority: “Traditional outreach is failing and needs to invest in social selling but marketing is stretched thin\" (see 2:40)\n",
    "Event: “Kate to talk to her boss” (see 31:24)\n",
    "Date: <next June> (see 38:26)\n",
    "Message: Hi Kate, last we spoke, it was important to understand your content workflow across clients so you can scale up your engagement size to 20k. Your trial expires tomorrow. Wanted to reconnect to see if you’re ready to make a decision to proceed or not.\"\"\",\n",
    "    \n",
    "    \"xp\": \"\"\"Priority: “Get rid of Terraform Cloud in Q3 because support is not great\" (see 3:42)\n",
    "Event: “TCF contracts expires” (see 31:24)\n",
    "Date: <next December> (see 5:03)\n",
    "Message: Hi Mike, last we spoke, it was important to move off Terraform Cloud in Q3. I know your contract ends in December. Wanted to reconnect to see if we’re on track to replace TFC.\"\"\",\n",
    "    \n",
    "    \"mode\": \"\"\"Priority: “Increase thought leadership as part of ABM execution\" (see 22:42)\n",
    "Event: “ABM research is complete” (see 9:53)\n",
    "Date: <next December> (see 5:03)\n",
    "Message: Hi Swati, hope your conference in Copenhagen went well. When we last spoke, you were wrapping up the ABM account research phase. You mentioned you’d be able to enter the execution phase. Wanted to reconnect to see if you’re ready to improve Jan’s LinkedIn presence to reach key decision makers in November.\"\"\",\n",
    "\n",
    "    }"
   ]
  },
  {
   "cell_type": "code",
   "execution_count": 3,
   "metadata": {},
   "outputs": [
    {
     "data": {
      "text/plain": [
       "True"
      ]
     },
     "execution_count": 3,
     "metadata": {},
     "output_type": "execute_result"
    }
   ],
   "source": [
    "from dotenv import load_dotenv\n",
    "\n",
    "load_dotenv(\"../.env\")"
   ]
  },
  {
   "cell_type": "code",
   "execution_count": 4,
   "metadata": {},
   "outputs": [
    {
     "name": "stderr",
     "output_type": "stream",
     "text": [
      "k:\\kj\\Projects\\sales_actions\\.venv\\Lib\\site-packages\\tqdm\\auto.py:21: TqdmWarning: IProgress not found. Please update jupyter and ipywidgets. See https://ipywidgets.readthedocs.io/en/stable/user_install.html\n",
      "  from .autonotebook import tqdm as notebook_tqdm\n"
     ]
    },
    {
     "name": "stdout",
     "output_type": "stream",
     "text": [
      "k:\\kj\\Projects\\sales_actions\\notebooks\\cache\\compiler\n"
     ]
    }
   ],
   "source": [
    "import os\n",
    "import sys\n",
    "\n",
    "os.environ['DSP_CACHEBOOL'] = 'false'\n",
    "os.environ[\"DSP_NOTEBOOK_CACHEDIR\"] = os.path.join(os.getcwd(), 'cache')\n",
    "\n",
    "import dspy\n",
    "\n",
    "temperature = 0.0\n",
    "\n",
    "lm = dspy.LM(\n",
    "    model=\"azure/gpt-4o\",\n",
    "    temperature=temperature,\n",
    "    api_base=os.environ[\"AZURE_API_BASE\"],\n",
    "    api_key=os.environ[\"AZURE_API_KEY\"],\n",
    "    api_version=os.environ[\"AZURE_API_VERSION\"],\n",
    "    # cache=False\n",
    ")\n",
    "\n",
    "\n",
    "dspy.configure(lm=lm)"
   ]
  },
  {
   "cell_type": "markdown",
   "metadata": {},
   "source": [
    "## No specific prompt"
   ]
  },
  {
   "cell_type": "code",
   "execution_count": 6,
   "metadata": {},
   "outputs": [
    {
     "name": "stdout",
     "output_type": "stream",
     "text": [
      "Mike Liv needs to sign up for an account and set up the necessary cloud and VCS integrations before the POC kickoff call next week. Additionally, he should check with his procurement team about the NDA requirements and share the necessary documents in the Slack channel.\n"
     ]
    }
   ],
   "source": [
    "action_item = dspy.Predict('sales_call_transcript -> hidden_action_item',)\n",
    "\n",
    "response = action_item(sales_call_transcript = transcripts['xp'])\n",
    "print(response.hidden_action_item)"
   ]
  },
  {
   "cell_type": "code",
   "execution_count": null,
   "metadata": {},
   "outputs": [],
   "source": []
  },
  {
   "cell_type": "markdown",
   "metadata": {},
   "source": [
    "## Custom prompt signature"
   ]
  },
  {
   "cell_type": "code",
   "execution_count": 5,
   "metadata": {},
   "outputs": [],
   "source": [
    "class SalesActionItem(dspy.Signature):\n",
    "    \"\"\"Find hidden action items in the given sales call transcript. Identify things that sales rep has to do in future. Only provide the action items for tasks that are to be done atleast 2 weeks from the day of the call.\"\"\"\n",
    "\n",
    "    sales_call_transcript = dspy.InputField(desc=\"Sales call transcript with a potential customer.\")\n",
    "    hidden_action_item = dspy.OutputField()\n",
    "\n",
    "\n",
    "\n",
    "action_item = dspy.Predict(SalesActionItem, n=1)"
   ]
  },
  {
   "cell_type": "code",
   "execution_count": 8,
   "metadata": {},
   "outputs": [
    {
     "name": "stdout",
     "output_type": "stream",
     "text": [
      "Homer needs to send Taylor the WordPress setup instructions and extend her account trial by another week.\n"
     ]
    }
   ],
   "source": [
    "response = action_item(sales_call_transcript = transcripts['4tools'], config=dict(temperature=0.0))\n",
    "print(response.hidden_action_item)"
   ]
  },
  {
   "cell_type": "markdown",
   "metadata": {},
   "source": [
    "## dataset, metric, tuning"
   ]
  },
  {
   "cell_type": "code",
   "execution_count": 6,
   "metadata": {},
   "outputs": [
    {
     "data": {
      "text/plain": [
       "[Example({'sales_call_transcript': \"0:10 - Homer (Acme)\\n  Hey, Marc, how's it going?\\n\\n0:11 - Marc Freund (5tools)\\n  Good, part of the hour, are you doing it?\\n\\n0:13 - Homer (Acme)\\n  Not bad. Where you're joining me from today?\\n\\n0:17 - Marc Freund (5tools)\\n  I'm in Atlanta, how about yourself?\\n\\n0:19 - Homer (Acme)\\n  Nice, very cool. I'm in San Francisco. By the way, if you hear any background noise, there's construction going on the right outside.  I apologize for that. I can't control it. But let me know if you have any problems with that.\\n\\n0:33 - Marc Freund (5tools)\\n  All good. If you hear noise on my end, it's probably my children around the house.\\n\\n0:40 - Homer (Acme)\\n  Very cool.\\n\\n0:41 - Taylor Esposito (5tools)\\n  Hi, Taylor. Hi, nice to meet you.\\n\\n0:44 - Homer (Acme)\\n  Hello. And we have found it to me too.\\n\\n0:48 - Sean Carnahan (5tools)\\n  Nice to meet you.\\n\\n0:51 - Homer (Acme)\\n  Yeah.\\n\\n0:52 - Marc Freund (5tools)\\n  I can make some intros. And the team, we were going to demo it. And Taylor is one to fully embrace that.  Technology early she's already jumped in on a 14 day free trial on this plan. Okay amazing call so but so I head up our strategy here Sean and I co-founded five tool about five years ago and He has a part tech All things technology for us And then Taylor is our content manager slash strategist on that side.  So she's helping move things through pipeline She was very eager to jump into this because We've been piece-mealing things together.  We use a sauna and kind of how we heard about you was Skylar Reeves he's using product I believe and right now We've I've been Skylar for a couple years now and he's like look I've tried a sauna.  I've tried almost everything It's a nightmare he said drop is crushing it. It's not cheap, but They have kind of cracked the code on this thing.\\n\\n2:03 - Homer (Acme)\\n  Awesome. Glad to hear that Skyler is happy. And like, yeah, more than happy to show you letter drop and answer any questions for you as well.  So perhaps, and I appreciate you sending me that email with your entire tech stack. If there is one thing I can do for you on this call, what would that be?  I wanna make sure I'm getting that information out to you because letter drop does cover a lot of stuff.  And I'm sure Taylor, as much as you've tried it, there are parts of it that you probably haven't discovered yet.  And so my goal is to make sure you have information you need to make the right decisions for your business.\\n\\n2:45 - Marc Freund (5tools)\\n  Taylor, I'm gonna give you one, and I think Taylor should probably give you one as well from my. I think we're doing some of this stuff that isn't a must have that letter drops doing.  Like you're doing some kind of clear scope type things in there. Okay. From a reporting standpoint, I think that's cool.  We're doing some of that.\\n\\n3:03 - Homer (Acme)\\n  So those are like really, they're nice to have. So like it's nice to have a planner.\\n\\n3:07 - Marc Freund (5tools)\\n  I think the biggest is where we struggle is we use contractors quite a bit. And the ability to have an ecosystem, like helping us understand how the content flows through from like the keyword research through to assigning it out to writers and people are producing the content brief for Convlythepress, but those.  And then actually the content writers, like we've got a lot of moving pieces in here. So like how does that workflow look?  And I think along that is like we're an agency. So we have multiple clients. So like helping us understand like how do you manage multiple clients, particularly when you need to see the holistic view outside of just like the content process.  Like so is it like one instance for each. each client and then that all rolls up into a single view.  Like just don't really understand that piece on the Taylor. That was another one thing.\\n\\n4:08 - Homer (Acme)\\n  I think I cheated by adding some there. That's, that's okay. My takeaway with like the project management approvals, content workflow was, was the piece that matters to you.\\n\\n4:18 - Marc Freund (5tools)\\n  Got you. Yeah. Yeah.\\n\\n4:20 - Taylor Esposito (5tools)\\n  Taylor. Specifically, yeah. No, Mark, you took at least four of my biggest pain points and rolled them all in there.  But specifically, it's managing at that high level, knowing where everything is at at any given time and having that oversight.  Even if I have one contract or working on multiple clients, being able to see everything that they're working on, just making sure workloads are even and distributed and moving forward.\\n\\n4:49 - Homer (Acme)\\n  Gotcha. Cool. Sounds good. And then I know there are lots of parts of letter drop, which I imagine possibly fall outside of the services you're off.  offering to your customers, things like, or I don't know, I'm just curious, like social distribution or like leveraging their sales team to get content distributed.  Um, any of that like is, is within your purview or things you want to, like think of like being valued out of your customers right now.\\n\\n5:19 - Marc Freund (5tools)\\n  I think social is one that we haven't historically done, but are like, like what we've done it, but very sporadically, we haven't made it like a priority, but it's becoming more of one.  And so I think touching on that would be, would be pretty valuable as well. Like, how are you attaching social, like you've produced a piece of content where like we see social posts attached to that, things like that.\\n\\n5:45 - Homer (Acme)\\n  Gotcha. Gotcha. Okay. And, um, the last question I had was in terms of, uh, actual production of content, um, are you using, um, any tooling around that and the AI  Is this a writing or do you have like anything that's helping you speed that along? Or do you have any problems around content creation and solve?\\n\\n6:11 - Marc Freund (5tools)\\n  We are dabbling. We had a little competition last week where Taylor had a human and AI write articles. And then we tried to guess who was who with a little bit of like editing afterwards.  Yeah. So we're we're starting to go that route and then we're leveraging. I pretty more and more for brief creation content ideation.  A lot of different areas we're using it a bit like a like a VA to a certain degree to do a lot of tasks.\\n\\n6:43 - Homer (Acme)\\n  Gotcha. Gotcha. I think it's the right way to be thinking about it as an assistant and not a replacement as well.  And what I can do is I can show you some stuff that's on our roadmap. I think we're thinking about content creation.  and using AI pretty neatly there. And so I'm happy to show you a little bit of that as well.  I think the one thing I will say before we jump into this conversation is that letter drop right now is we primarily just sell directly to companies.  Skyler is one among a handful of agencies who have started adopting letter drop. And so we're still figuring out what that relationship looks like.  We don't really know what pricing looks like or any of that stuff for agencies right now. We actually tried selling to agencies about a year ago younger.  And I think the big thing we saw from agencies and the reasons why we haven't focused on them is people are like, look, we have like whatever 20, 30, 40 clients.  And I know our process today doesn't work great. But it is a massive change management and like operation for us to even.  Think about this. And so from our perspective, I was like, okay, that's completely reasonable and fine. And so we were like, we need to build our customer base directly with companies first and become more established before we start talking to agencies.  So that's where we are as a business in terms of who we sell to. So I just wanted to throw that caveat out there where everything you were seeing for the most part is built for essentially a concrete marketing manager at a company to manage things themselves.  And we're really thinking about, okay, like, how do we automate some of their work and how do we get content to drive revenue for that business, which is why it integrates with the sales team integrates with like all these other aspects of the business.\\n\\n8:41 - Marc Freund (5tools)\\n  Yeah. And I'd say in that vein, I mean, we're similar to Skylearn that like we pursue large engagements and larger contract value.  Like we're trying to get our goal list, we're around by 10K on average per month with clients. And we're trying to get closer like that.  that 15 to 20K. We much prefer like Series C above type companies have established marketing teams that we can do massive content scaling.  And so that's why we're kind of interested in this. It's not a huge change management thing for us at this point simply because it's in a sauna right now and it's just, it's templated out, but like that shift isn't that difficult for us because we're not moving 40, 50 clients over.  Like this is one where we could, because the size of our engagements, we could consider like separate instances for each client.  But ultimately, I think where the pain point there would be is like we need a holistic view. So if like you're just not awaiting it yet there, that becomes a little bit of a sticking point, but I'm still.\\n\\n9:54 - Homer (Acme)\\n  Yeah, we actually, yeah, we do have a holistic view. Like I said, it wasn't, it was built. So we have an.  agency side to our business as well. It's largely not like an agency in the sense. It's more of like an unblocker where we early on, we would talk to like small companies, they'd be like, tool looks great.  We don't have anyone to use it. It'll be like, what happens when we use it for you? And that's how our agency operation came about and it exists primarily to dog, but our product at this point.  And so we have some internal tooling around that, which is going to be useful to you. And I'm going to show you that.  Um, but, um, I would be lying if I said, like, we've fully flushed that out and like, it's like super production ready.  Um, cool. So with that, I'm going to jump in and, um, um, sort of a share my screen, walk through, um, mostly like the content workflow type stuff.\\n  SCREEN SHARING: Parthi started screen sharing - WATCH: https://fathom.video/share/KLuL35y3F-iuJm-kxtJprj6ur5n2pbde?timestamp=636.285266  Um, and then I think the second thing I'm going to touch upon is social, just because that's something that you're exploring.  And then the last thing I can touch upon is like the AI, um, writing stuff, which is not in the product right now, but probably coming in six weeks.  Um, do you want me to skip on SEO completely or is that some?\\n\\n11:01 - Marc Freund (5tools)\\n  I think you probably want me to touch upon any capacity. I would say like we are very sophisticated from ASEAN standpoint.  OK, I'm going to just pass on our thing for now.\\n\\n11:16 - Homer (Acme)\\n  Yeah, cool. So with Acme, essentially like what we help companies do is like manage the content workflow all the way from ideation to publishing and directly connecting to client websites, whether that be on WordPress or Webflow or HubSpot or the next JS site and distributing that content.  So all content really starts at the idea stage where we help companies collect their ideas in a single place from all over the place.  So if you want to engage with your clients and help them figure out, OK, like this is what we're working on.  If you want to upload some of this stuff, you want to comment on some of this stuff, have discussions on this stuff.  You can do that with them from here. You can also do things like sort of like bulk create these ideas or you can upload them from a spreadsheet and pull them all into a single place over here.  And there are different views to sort of like we'll get your ideas as well. So I can kind of see them in a more tabular view.  We'll automatically pull in search volume, SEO difficulty, all that kind of stuff where available. All the data is taken from SEMrush as well.  We'll pull in the top competing page. The main authority of that page, all that kind of stuff as well as any custom feels you create, you can set those values.  From here I can move things around and prioritize stuff. So that is sort of ideas. From here what I can do with our ideas is I can actually go ahead and I can assign them to writers.  So I can click on assign and I can also bulk assign and this brings up our content calendar. On my content calendar I can go and figure out like when I want something to go out.  And I can just drop it on the calendar and it will pre-populate all of these fields in case. on rules you've set up.  You can set up owners for different stages. You can set up like number of days or between different stages and deadlines.  We'll back calculate all these deadlines from the published date and we'll account for weekends so that you're not assuming like something's going to happen during the weekend as well.  From here, you can either assign it to somebody on your team or if you're working with freelance writers, you just want permission to access your stack.  You can click on this and you can just send them a link or add their email. They'll have permission to access to just write that one piece.  They won't see anything else and they'll actually get a separate workflow as well. What their workflow is going to look like is something more akin to this where they can see something assigned to them and I'm just going to pull something out from here.  They'll have the ability to chat with you. They'll see a checklist of exactly what they need to be doing.  they'll be able to see the company style guide, they'll be able to see their brief with any assignments or data that they have, and then they just essentially have to go through this step by step and make sure that they have everything submitted by these deadlines.  We'll send email notifications automatically when things are due. We'll send reminders when things are overdue to go with you and them.\\n\\n14:26 - Marc Freund (5tools)\\n  Right.\\n\\n14:27 - Homer (Acme)\\n  Any questions so far of what I've showed you?\\n\\n14:31 - Marc Freund (5tools)\\n  Yes.\\n\\n14:32 - Homer (Acme)\\n  Go for it, Taylor.\\n\\n14:34 - Taylor Esposito (5tools)\\n  Yeah. So you set the date that you want the content to be published in the content calendar. It auto back dates based on whatever steps you've identified.  I've played with this already in your tool. What happens when I have, because we're an agency, I have 10 pieces due to my client on the 15th.  And I want my contractors, I want my team to work. on different pieces on different days. So I don't want them to have to do all of their blueprints on one day that happens to be 10 days before that final drop day.\\n\\n15:10 - Homer (Acme)\\n  Am I able to change? Like it'll auto create. It'll auto populate based on these rules. So if you go into settings and go to blog, you'll go down to content workflow.  You can see that I can set these kind of like number of business days between stages, right? I can also create my different stages in here as well.  So I can say, okay, like this is always going to be the project owner, or this is going to be one of these people or anything along those lines.  And so I can create new stages as well. And so as soon as you click on a sign, what's going to happen is it's going to take these stages, it's going to take these days, and it's going to like backfill everything for you.  Now if you want to change that anyway. Like you still have those drop downs in the fields and you can go in and manually change it up.  And it can also like partially backfill for you as well. So for example, if I'm just gonna go ahead and do this.  If I go ahead and assign something and then I'm just like oops, I want to move the outline review deadline to a different date.  I can I can like click on a different date over here and I'll move my screen over a little bit.  So it's it's complaining because the dates are it's going in the past. Yeah. Yeah, but yeah, but you can click on maintain gap between deadlines and then when I switch one of these in between dates, so 23rd to 27th, I think I can probably pick 24th and what it should do at that point is it moves all of the other dates before that as well to maintain that gap between them.  So you can move somebody around where you don't want them all to be like, do the same day before and you can, you can, you can move those around for sure.  And one other question before I stop talking to conversation, does that content calendar only show the final published date of each piece or each step in this process?  It is by default, just showing you the, uh, the final published date. If you go here and click on expand deadlines, um, it'll, let me do that.  And this is not something I've used recently. Okay. What it should be doing, um, is if you click on expand deadlines, it'll show you like all over the in between dates as well.  And let me just check if this is something that is specific to my workspace, which is why I'm not seen it here.  Okay. So that is a bug, but what I will normally see is like all of the deadlines and intermediate states being open.\\n\\n18:01 - Taylor Esposito (5tools)\\n  up as well. Perfect.\\n\\n18:06 - Homer (Acme)\\n  And what I can do is once that's fixed, I'll get that fixed, it's Thursday, I'll get that fixed by Monday and I'll send you a viewing video of that if that's interesting as well.  Thank you, that would be lovely. Can I, should I keep going? Okay. So, yep, so we have your contact calendar, you assign everything, people get their notifications.  You also can get notifications in Slack as well, so if you go to settings integrations and you connect Slack, you can get notifications in Slack, whenever some things do, it'll ping you.  And we're e2 all about stuff as well. So it's not just on email. You can track all of your content in our project board over here.  I can just see like what means my attention by this going to mine. We'll just show me the things which I need to take a look at where I can see everything.  I can filter their stuff. I can see everything. I can filter their stuff. I can see everything. I can filter their stuff.  I can see I wanted to see everything I was assigned to, like, one of our writers or a single person or by approval or due date, all that kind of stuff.  And for each one of these, if I were to click into them, we have like common history and we can discuss the state of this project with Ad mentions, videos, wounds, all that kind of stuff.  I can see the, like, brief keyword data, all the data in terms of who's assigned to what deadlines. And then I can also track the status as it moves through different stages.  So I know if there's any delay or something like that, I can check in and see, like, okay, like, this was moved to the stage this many days ago, or it changed hands this many days ago, all that kind of stuff.  I can track that comes in handy sometimes, especially when you're doing a client, so they're like, what's the status and stuff?  And you can just point to this and say, okay, it's been sitting in your stage for this many days.  We can show it to you here. All this stuff, if a lot of these things move automatically from stage to stage as they're moving through the letter drop process.  So for example, we have a built-in, I guess you call it blueprints or outlines type thing, where you can create these fields.  You can get people to fill these out. You can have comments, all that kind of stuff on it. And you can send these back by either requesting a revision or approving them.  When you do this, they automatically send them emails and move from stage to stage over here. We separate these out so that you actually have an object, which shows you this blueprint before you write the draft.  I know a lot of people today, they'll have a Google Doc that's essentially right over it. And then you tend to not have something to compare it to.  And then finally, we have the actual CMS. You can create templates and store them and use them if you want to.  In the CMS, once again, incredibly collaborative support for comments and all this stuff, including video comments if you just want to talk over stuff instead of having to actually write down stuff blind by blind.  Suggestions mode, bunch of SEO tooling, you're not super interested, very easy to access your style guide, the actual brief, the outline from here as well, revision, history, chat, all that stuff.  And this is directly connected to the CMS. So you're never going to have a situation where what you've presented or given to the client is different from what's probably going out there because it's going from here directly to the CMS.\\n\\n21:47 - Marc Freund (5tools)\\n  It's all integrated. So you're seeing a live view of the the, well, the editor like the authoring environment of the CMS right now.  So like as you make changes in your review and submit, it's a. in this instance, Webflow?\\n\\n22:03 - Homer (Acme)\\n  Yes, correct. So in our case, our site's on Webflow, it's connected directly to Webflow. We can connect to multiple CMS collections in Webflow.  And so as soon as I go in here, I'm gonna like essentially update this. When I click on update, it's immediately going to go to Webflow.  And so I think at a very high level, that is workflow stuff. I'm happy to go into socials and like assisted writing next, unless you have more questions about workflow.  Oh, I guess one thing which I didn't show you is the sort of agency stuff.\\n\\n22:46 - Marc Freund (5tools)\\n  So you can see I opened up this little dropdown on the top and I can see a bunch of workspaces that I'm currently in.\\n\\n22:52 - Homer (Acme)\\n  Right, and so if you go back here and click on my clients, you get you get. I pulled out into this sort of like agency view.  And actually like the only people who can see this are people with the agency permission. So if you go into our rules and permissions, you can see that some people have different permissions from others, viewers, agencies, admins, teammates, et cetera.  So when I go here, I'm kind of stepping back and seeing everything from a 30,000 foot view across workspaces.  I'm seeing like what drafts are due on my side. So as a writer, I'd see this kind of stuff.  And then on the planning side, I can actually see the content calendar across different workspaces here. So I can filter it through and I can see across a lot of different companies which are using this.  Let's see if this works here. That feature is just completely not working today, unfortunately. But essentially I would also be able to see across all of my clients that be able to click in and just see like what's due today.\\n\\n23:59 - Marc Freund (5tools)\\n  So I'm actually up.\\n\\n24:00 - Homer (Acme)\\n  Uh, I got. Sorry, go ahead. I'm gonna go for it.\\n\\n24:04 - Marc Freund (5tools)\\n  It's the, um, this is like, it'd be great if you have it. I don't expect you to, but a re like a resource thing side.  So we have, we've gotten the point where we are fairly confident in the number of hours that takes it each stage.  So is there any way to see like this contractor is this many hours assigned to him, this person has this many hours assigned to him.  Is that a capability?\\n\\n24:31 - Homer (Acme)\\n  Again, like I would have. It is. It is. Yeah, it's not a capability. Um, it is not the first time somebody has, um, brought that up though.  Um, we have a client, um, or customer. Um, these guys have like a whole operation and they publish with a hundred articles per month or something along these lines.  And so what they asked me for was like writer analytics, essentially, like how many hours is somebody spending on a piece?  Like what is their? throughput, all that kind of stuff. So it's not the first time that's been asked and it's not something that's completely out of line.  We don't have that capability right now. I wouldn't say it's like not something we would ever add to the roadmap.  I do definitely see that as being something that we could potentially include. It is probably not a priority for the next two months.  But after that, I think when we reevaluate the product roadmap, it's totally for our game.\\n\\n25:31 - Marc Freund (5tools)\\n  I think that's gonna be one of those things that's on our, that we all consider.\\n\\n25:35 - Homer (Acme)\\n  Cool. And so this view right now, what I'm just seeing is the same thing which I showed you across for the project work for a single company, but I'm just seen in a cross company.  So we can now see the little company logos on top of them, they're all color coded. I can see them across these different workspaces and I can filter across them as well.  I can turn some of them on or off or anything like that. So this is like the sort of overview view I was telling you.  Okay. about it is not very publicly used, however. It's largely internally by us. When we decided that we wanted to really open up like an agency offering, we're going to really polish this up.  But right now it's kind of like, oh, this is kind of like a school internal view that we use today.\\n\\n26:22 - Marc Freund (5tools)\\n  Okay. If this is something that works out with this, be something that you're able to make available to is this, I'm assuming this is what Skyler is using as well.\\n\\n26:33 - Homer (Acme)\\n  Yeah, this is what Skyler is using as well. I believe Skyler's situation is he's using Leather Drop for himself right now.\\n\\n26:39 - Marc Freund (5tools)\\n  Or for Arden.\\n\\n26:41 - Homer (Acme)\\n  That's his first thing. And he has just brought on like another client right now. And I think he is one by one trying to expand all of them to start using the systems that I can start using, like looking at everybody through this kind of view.  But I believe what he's doing right now is just more. So like navigating between these different workspaces on a per client basis.\\n\\n27:04 - Marc Freund (5tools)\\n  Yeah. Okay. That makes sense.\\n\\n27:09 - Homer (Acme)\\n  Um, should I talk about socials next?\\n\\n27:11 - Marc Freund (5tools)\\n  Yeah. Sounds great.\\n\\n27:12 - Homer (Acme)\\n  Cool. So once again, you can connect socials for all of your, uh, customers on a whole bunch of different channels for B2B clients, like LinkedIn is a big one.  You can connect multiple social accounts. Um, it's as simple as honestly just sharing a link and then you can get the entire sales team to, to drop in their socials.  I can show you an example of what that looks like for somebody who has it. So you can see that this company has ever eight people, um, we're all collaborating social wise.  Um, on the social side, you can also once again, plan it on your, on your quantum calendar, you will see all of your social posts in here as well.  You can see some of my LinkedIn posts, um, on different channels, um, here as well. Um, I can either post the socials independently.  So I can just say, Hey, like I want to drop like a LinkedIn post. and then I close to the company account, write something up.  Or when I am publishing a long form piece of content, I can redistribute that automatically to socials as well.  So I can say once this article is published to my webflow site, I wanted to also go out to the company, to the company, LinkedIn account, and as well as my personal account, I can say when I want this to go out, I want this to go out a day later, I want this to go out at a specific time, will automatically generate the final URL along the tracking frame for you as well.  And so you can just like pop those in. The other cool thing we do is like we automate engagement so you can automatically get likes from your teammates.  A lot of the marketing departments today will post in Slack and say, hey, everybody engaged with this, so like your connection, see it.  Very important for sales teams because they are connected with prospects. So them being able to do that is important.  And so. what this does is just kind of like automates that process for you. You can do the same thing with comments as well.  We'll essentially just send people a little slack message saying, okay, somebody wanted a comment from you and they'll take them to this page.  They'll see a little drop comment. They'll see the post and then they'll see suggestions and the CSS is a little bit off here, but they'll see suggestions for like based on this content.  They'll see, okay, I can take this edit this a little bit, make it sound more human and then go ahead and comment on that.  So that's kind of socials for you. It's like, automatic redistribution of blog posts and then like individual redistribution as well.  And you can also do things like sort of like ghost write and like request permissions. So I can write a drop here on LinkedIn.  And then I might be an admin. So I might not be able to do that. But for some of the.  When I write something, it's gonna say get approved and I can say like, hey, I want like whatever I want this person to actually approve this before it goes out.  Any questions about socials? The last thing I wanted to show you, and this is not live yet, is what we're building into our editor.  So a lot of good writing just like really boils down to good frameworks. And so what we're doing is we're building those kinds of frameworks into the CMS itself.  So you can do something like type slash introduction. In the CMS, it's gonna start asking you a bunch of questions like who is the reader?  What kind of framework do you want to use for writing? It's gonna ask you a couple of questions about the problem you're trying to solve, like the pink point you're trying to solve.  And then takes all this information. And essentially boils that into, puts them to like open AI along with some training data we have from like our previous clients and gets you something, gets you an output.  So it's using AI, but it's not outsourcing thinking. The thinking is still done by a person, which is the real thing that needs to be done.  It's just like piecing things together in a way that makes sense. And so this is probably gonna come out in the next, I wanna say like five to six weeks, but this is something that a lot of our customers are excited about, because it just reduces the burden in terms of like trying to figure out like how do we write stuff.  I think people, the real job of like people moving forward, especially in this world, like all this AI writing and all that stuff is gonna be answering the right questions and knowing like what is the angle we wanna take on this?  Like who is this actually for? Can you really empathize with the CEO of Fortune 500 company that your client is.  Thank you. selling to. And because I think like rehab AI content where it's just like taking the top stuff from, from the web and just like putting it together.  I think we're going to build blindness to that where people have like a good intuitive sense for like, okay, like this is just like rehash crap.  Okay, this, this piece of content actually has a perspective, it has an opinion, it has quotes from like an industry leader.  This is the thing that's going to inform my decision making for something. And so we're trying to like help like massage AI tools to do more of that and less of whatever they're doing right now where you can go in and chat.  You can't say writing an article on XYZ and it'll give you a lot of text.\\n\\n32:44 - Marc Freund (5tools)\\n  Yeah, I'd agree. I mean, I think how a lot of people are using them right now is like just one step reduced of just like using this paraphrasing tools that have been out forever.  It's like, are you done? It's just have a bot that didn't tell you. was paraphrasing like stuff that existed online.  And I just had a chat with a publisher or a billy named Technically and we just chat back and forth and he was like, this thing's the end of creativity.  And I'm like, it's not the end of creativity. It's just, it's a bunch of VA's, right? Like it's just gonna automatically those like menial tasks and there's still like a level of creativity and new insight.  Like you can't, you just can't create new insights from AI right now for the most part because it's using existing knowledge as its basis, right?  It's not critically thinking the same way I human this.\\n\\n33:41 - Homer (Acme)\\n  Right. I think the interesting stuff is when you get it to like, what happens when we start connecting this with data sources really?  So you can actually get it to actually like pull those insights from somewhere else. And then you have a person actually like sort of like direct it and say like, hey, like these are the insights you wanna pull.  Like getting a statistic on something and put that in here. And then gives you a bunch of statistics. You still have to go to fact check them because it's just generating a stat and it's like likely to be true, but not really.  But I think that's the kind of stuff where you're like, hey, here's how we actually tell a story. Here's how we get people to care.  At least right now, whenever I see AI content, it's so easy to see that something is nothing like, essentially like I don't really care if it was written by AI or human or purple alien.  I care about whether it's useful to me. Ultimately, everyone's selfish and they care about whether it's useful. And I think the way people are using it right now or how I see a content is it's not useful for the most part.  The same as like content, no content. I'm also like, yeah, this is just the same thing, but instead of people doing it, it's just like an AI doing it for a couple of cents instead of a person doing it for like 20 bucks.  It's equally not helpful. So yeah. Yeah, I think definitely not the depth of creativity. It's just the depth of a lot of stuff people have been doing in the first place.\\n\\n35:09 - Marc Freund (5tools)\\n  Yeah, I mean, it's like the cheapest worst on Fiverr is kind of like what I see. It's like, okay, yeah, we're asking them to write you an ebook, like you've gone to the wrong place.\\n\\n35:21 - Homer (Acme)\\n  Yeah.\\n\\n35:24 - Marc Freund (5tools)\\n  The questions I ever really hit around the agency side, which would be like, how are you pricing the agency side of this?\\n\\n35:33 - Homer (Acme)\\n  Yeah, so that is not something we have really figured out to give you context. Like for everything you saw, the project management stuff, like all that is $800 a month.  What we really expected in one, I think, is going to do is essentially like off of that cost to his customer.  Once again, I think he's also operating at the range. You guys are doing 10,000,000, 20,000,000, something along those lines.  And like, yeah, I can eat the costs or off-way to the customer. For other agencies, what we've talked about is, I'm happy to give away 20% the subscription cost in some format.  How an agency wants to use that is up to them, whether they want to take a 20% for themselves as like, I'm essentially putting this into another company for you and still it's like a rev share kind of thing.  That's one option. The other is what the revenue is a drop in the bucket for me when we're charging 10, 20K per month.  What's more important is like me making an easy sell to this customer so that we can actually get the infrastructure when even place to succeed with them.  Can I use this as an exclusive discount? This is like an exclusive five tool discount too. And in the same way you'd say like, hey, I really need us to use any of you to buy a Sam Rush license for us to do this for you.  We work with Sam Rush and we have an exclusive 20% off discount for you since you're working with us.  SEMrush can you go buy SEMrush? And so that's the other way in which I position to people. So how do you wanna use that 20% is completely up to you?  Can go to you, can go to the customer, that's totally okay. And so that's what we've been doing, but also in full transparency, this is only been something I've been thinking about since like late December.  And Skyler is one of three agencies who has organically adopted letter drop. Like we haven't, like we're not pushing to go in and sell into agencies right now.  They just found it, they really liked it. And they were like, yeah, we wanna get on this thing. So that's the current state of affairs there.\\n\\n37:38 - Marc Freund (5tools)\\n  Yeah, I mean, we had a agency quotas building a custom solution and I was like, you're crazy. It's one 20th of this thing and it was like, well in excess of 50, 60, 70,000.  And it closed to what we needed. And so we've been working on internal stuff. We've been leveraging workflows within a size.  I don't know, like we've gotten pretty deep in like leveraging existing technology to do some of this.\\n\\n38:05 - Homer (Acme)\\n  Yeah.\\n\\n38:06 - Marc Freund (5tools)\\n  This is a lot of appeal. I think we just need to look at the economics and honestly, we're going to float it by a few clients that this would be a great fit for and just be like, Hey, if we were to provide this, uh, let's just say, 800 minus 20% whatever that is, we probably go to that exclusive.  This is bringing up. You'll be like, Hey, if we were to like do this and build it through, like, it makes our life easier.\\n\\n38:29 - Homer (Acme)\\n  It makes your life easier.\\n\\n38:32 - Marc Freund (5tools)\\n  Um, would you be interested in it? And I think that's the best way for us to go about it and get one or two clients on it initially, see how it works for us and then kind of work from there.\\n  SCREEN SHARING: Parthi started screen sharing - WATCH: https://fathom.video/share/KLuL35y3F-iuJm-kxtJprj6ur5n2pbde?timestamp=2320.783834\\n\\n38:43 - Homer (Acme)\\n  Right. If you want to like a really easy way to like make a dollar value argument and people, um, and this only works for you mentioned CRC plus company.  So this is probably true of them. If they have a large sales force or customer facing, um, sales force, the other calculator on our site, you can essentially plug in the number of  whatever SDRs or AEs are customer-facing folks in their teams, when let's say 30 people, you can say like, hey, here's how much like content we're producing for you on LinkedIn across various accounts.  Again, we're experts for social for LinkedIn. And then this calculator essentially figures out like roughly a number of impressions that's equivalent to.  And if they were spending on LinkedIn ads, this is essentially the cost of that in LinkedIn ad spend. So as soon as the company is of any sort of meaningful size, suddenly that number doesn't seem so bad.  Because this is literally just money you're leaving on the table by not getting your team to distribute content for you if you're also spending on LinkedIn ads.  So that's a really good argument I found in terms of just dollar value, saying like, hey, this tool kind of pays for itself.  And this is independent of the content creation. All the other stuff I showed you, this is just purely that one feature on a LinkedIn distribution side of names.  Now, if they don't have a big sales team or they're not spending on LinkedIn ads, they're like, yeah, like none of our customers are on LinkedIn.  Like this obviously, Matt doesn't check out or make sense, but for this target audience, a lot of them are on LinkedIn and so it works.\\n\\n40:19 - Taylor Esposito (5tools)\\n  You're muted.\\n\\n40:21 - Marc Freund (5tools)\\n  Thank you. Sorry, Madam was barking. I think this is great. I think we, Taylor, you've got a few days, nine or so days left.  I think one of the things we were gonna test out is we've got like a must of sandbox site.  I use keyword research. I think Taylor invited me, but I was, we don't have any client to like plug into this yet.  But what I was hoping is like, I can create my demo account or whatever. And as soon as we've done our keyword research, and then we're gonna like test the workflow into like assigning it to our writers, getting pieces written, pushing it directly into our sandbox site, which is.  It's like, right? So it's a WordPress site and pushing it in and running through it.\\n\\n41:04 - Homer (Acme)\\n  So if I go sign up, will like a demo free access account for like 14 days? Yeah. You don't have to sign up.  Um, um, Taylor just makes invite you. So Taylor, if you go to, um, settings admin and just invite, um, Mark, um, and Sean over, you can, you can go ahead and do that and, um, they'll get an invitation.  Um, and then they can just, we can all work out of the same workspace. Um, uh, note on WordPress.  It does require a little bit of stuff from my end. I'll send you a tutorial on like how to set up WordPress.  Um, and then you essentially have to send me back a key, which I'm going to plug into our backend.\\n\\n41:39 - Marc Freund (5tools)\\n  And then once I do that, you should be able to, uh, directly connect to WordPress. Okay. We'll be ready with a keyword research for like another.  Probably a week. Uh, and yours runs out in what like seven or eight days Taylor?\\n\\n41:53 - Homer (Acme)\\n  Yeah. Taylor, Taylor, if you want to extend that, that's completely fine by me. Um, just let me know like when, how long we need for tests.  Seeing I'll just go in. What's your, what's just tell me your email address that you sign up with. I'll go find the workspace and I'll kind of just like make sure that that doesn't expire for you.\\n\\n42:09 - Taylor Esposito (5tools)\\n  All right. It's Taylor at five tool agency. I can send you a note.\\n\\n42:13 - Homer (Acme)\\n  Gotcha. Awesome. Cool. It's fantastic. So yeah, no, I'm glad you reached out. So in terms of next steps, it sounds like you want some time to play with it and like really understand how it works.  If there's any questions, any bugs, Taylor, like that bugs with the collapsed deadlines, expanded lines, we're very responsive. And we can be because you get to talk directly to CEO, become like, I care very deeply about our customers.  It's not like a sauna. We're like, I'm going to file a bug report and they'll look at this in eight months.  We'll feel like we're constantly adding new features, which also means we break things occasionally and we'll go fix them again.  So let me know very communicative about that kind of stuff. I'll send your. trial by another week or so, and I'll send you a recording of this call so you can go back and view anything if you need it, and I'll send you that link to a calculator, and then what would make sense in terms of next steps, in terms of like connecting again and discussing what you'd like to do?\\n\\n43:18 - Marc Freund (5tools)\\n  Yeah, if you've heard from me in two weeks, like Ping Me, which is the most stuff involved the radar, but within two weeks, I think we should have what we need.\\n\\n43:28 - Homer (Acme)\\n  Okay.\\n\\n43:30 - Marc Freund (5tools)\\n  And in that time, I'm gonna actually play Referee You business to a company called Close, that's Close CRM. You may have heard of them.\\n\\n43:43 - Homer (Acme)\\n  I think I reached out to their head of...\\n\\n43:47 - Marc Freund (5tools)\\n  Ryan? Head of...\\n\\n43:48 - Homer (Acme)\\n  Head of... I don't know, this was a long time ago. This was when we were much earlier and our product did a lot less, but I did reach out to him on LinkedIn and he was just like, no budget, kind of shut it down.  Um... Yeah.\\n\\n44:02 - Marc Freund (5tools)\\n  But yeah, no, I love the stuff that they do. I've learned sales from there from their content really. Oh good Well, we did a ton of content for them Amazing I learned sales from you guys actually They're they're really good Ryan Robinson works for him He actually has his own blog as like over a half million views on Ryan is the person Ryan is the person I reached out to I think Yeah, I'll talk with Ryan and let him know they've got they've got a machine over there I certainly would love if they're using it As we continue to work with them But they'd be a good Whether it's using it through us or they're just using themselves like we like Ryan and their team a lot so no matter what Yeah, it's incredibly valuable for them Absolutely and yeah, hopefully this works out for you and in two weeks We get to work together, but I also want to let you know in the same way that and I offer this to Skyler as well is While we are not\\n\\n45:01 - Homer (Acme)\\n  directly selling to agencies right now, this is something we're exploring. And so learning more about your needs, kind of like the writer analytics and like work, like putting like the number of hours in there.  Like the more you can share in terms of what you need there, that's thing, those are things we can think about and figure out like how they fit into workflow and we can actually solve those problems for you as well.  So yeah, like very open to like listening and like working together in the future, regardless of whether or not you actually want to use a solution right now or if it's a fit for now, I'm sure we can find other ways to work together and maybe touch a touch base again in the future.\\n\\n45:39 - Marc Freund (5tools)\\n  Yeah, for sure. And if you're going down that route, like feel free to hit me up if you want to do like an interview and just like get it in depth.  I'm like, what are processes for pain points that are like, I'm happy to just do like an hour call with you and just say like ask away, like do fact finding, happy to share whatever like, wear an open book, we're trying to figure all this stuff out.  Yeah, we know the pain pretty. Ultimately, for our agency, and it is just a data point. So I've worked with a startup that made NEGS that did really, they did well, they sold off all that.  But one of the things I thought was really valuable in that process was like just being able to sit down and talk to people who are doing this every single day.  And I thought that was like the best way to figure out developing out the product. And I know that you can't do everything for everyone.  Like we had customers that had their like, but I need to do this. And I'm like, you're one of like you are the only one that does it this way.  And like I forget like you're not gonna solve all of our problems, but if you know, enough people have it then it's gonna get sold.\\n\\n46:46 - Homer (Acme)\\n  Yeah, no, I really appreciate that Mark.\\n\\n46:48 - Marc Freund (5tools)\\n  Thank you. All right, great.\\n\\n46:50 - Homer (Acme)\\n  Appreciate the time. Awesome. Yeah, appreciate the time. Thank you for reaching out. It was really great to meet all of you and looking forward to seeing you in touch.  The follow-up on my setters and you need to. email with the Corning LinkedIn calculator tool, WordPress setup instructions, and then Taylor, like expanding your account.  Perfect. That's really cool. Thank you very much. Happy\", 'hidden_action_item': 'Priority: “Understand content workflow with multiple contractors so you can increase your engagement size from 10k to 20k\" (see 3:07 and 8:41)\\nEvent: “Trial expires in 8 days” (see 3:07 and 8:41)\\nDate: <2 weeks from now> (see 43:18)\\nMessage: Hi Ryan, last we spoke, it was important to understand your content workflow across clients so you can scale up your engagement size to 20k. Your trial has ended. Wanted to reconnect to see if you’re ready to make a decision to proceed or not.'}) (input_keys={'sales_call_transcript'}),\n",
       " Example({'sales_call_transcript': \"0:01 - Kate Cox (Piedpiper)\\n  Really knock on wood, like very nice January. So we'll see.\\n\\n0:06 - Homer (Acme)\\n  Nice, very cool. Yeah, well, very excited to finally actually chat with you since faster. Yeah. I know you guys went through a couple of layoffs last time I talked to you and I understand that it was hard.  Yeah. Yeah, everybody has, I think like four out of five conversations I was having with people that were like, hey, like we just went through a bunch of layoffs and kind of like down, I was like, cool.  Sorry about that. I don't know what to say. I don't know either.\\n\\n0:34 - Kate Cox (Piedpiper)\\n  Like it's such a weird thing or like I'm still, yeah. Also like I think it's freaky because so many of the people are so talented.\\n\\n0:44 - Homer (Acme)\\n  So like.\\n\\n0:45 - Kate Cox (Piedpiper)\\n  I know, I know.\\n\\n0:47 - Homer (Acme)\\n  Yeah, it's just weird. My previous call was just getting advice on making our first sales hire. And he was like, oh yeah, every company just laid off like half your sales team.  Like you're going to be fine. Like you're going to find all these amazing, great people. And it was like, amazing.  So I'm sure they're all gonna find great roles at other companies.\\n\\n1:06 - Kate Cox (Piedpiper)\\n  Yeah, for sure.\\n\\n1:10 - Homer (Acme)\\n  And then obviously I've been following you on LinkedIn and Twitter. The Twitter is much more entertaining than the LinkedIn.  I am like not. Nobody likes me on Twitter. I'm glad that you are not at all.\\n\\n1:21 - Kate Cox (Piedpiper)\\n  It's more like shower thoughts on Twitter. What? It's more like shower thoughts on Twitter. Yeah.\\n\\n1:27 - Homer (Acme)\\n  Like, yeah. Yeah.\\n\\n1:29 - Kate Cox (Piedpiper)\\n  Like it's over there. Like nobody's like, oh yeah, cool. Kate's cool. It's just like, okay, I'm just gonna like do whatever.  It's funny, multiple companies pay me to manage their Twitter accounts. I'm so bad at Twitter, but you know, and I let them know.  I'm like, you know, I'm not very good at this. Like I'm good at other kinds of social media. Right.  Like not my space. And they're like, no, go for it. I'm like, okay.\\n\\n1:55 - Homer (Acme)\\n  Nice. I think that's what works on Twitter. Just kind of not shit posting quite.\\n\\n2:01 - Kate Cox (Piedpiper)\\n  like at least for a company, but like borderline.\\n\\n2:03 - Homer (Acme)\\n  Yeah, exactly. Yeah, well, I see you talking a lot about social filling on LinkedIn and trying to get the company more on board with that.  And yeah, just wanted to connect, learn a little bit more about what's going on at Contract Book, like what your priorities are, like what are you thinking about?  And then also perhaps tell you a little bit more about like what we actually do at Letter Drop and also some of the, talk about some of that social selling stuff, which I thought was pretty interesting as well.\\n\\n2:40 - Kate Cox (Piedpiper)\\n  Does that sound good? Yeah, that sounds great. Yeah, so I would say like, there's kind of two pieces to it.  Like one is that our BDRs are not getting a lot of traction with more traditional outreach methods. And I think that they don't quite know, there's a few people who are good at it, but overall, they're still kind of understanding more like how to be on LinkedIn, I guess, more than anything.  Like there's other spaces that I think they could be as well, or like, I think that they need to get more comfortable with being more visible, but of course, like I'm a marketer, so I'm like, hey, like you need to be a known entity.  We're also like in this position where a lot of the time we're selling into sales teams. So I think it's like doubly important for them to be active and be talking about, you know, all their friends are in sales too, right?  Yeah, it's just, yeah, it's just being buds. So yeah, so that's honestly what I'm trying to get them to do for a while.  We were doing, we did weekly LinkedIn training for. about a month and a half. And then we switched it to monthly because it just wasn't like, it was just taking up a lot of my time and then a lot of like their time and like people were coming less and less.  So now that I've changed it to monthly, people are more into it. And we have like a solid group that comes and I have gotten a few other people to start like posting regularly on LinkedIn, which is exciting.  They're still kind of learning, but it's great that like we've been encouraging that behavior as a company, but we kind of need, we, you know, we're, even though we're not really like a startup, we're like a series B, we're still very scrappy.  So I think it would be very helpful if we had more evangelists within our team.\\n\\n4:43 - Homer (Acme)\\n  Gotcha. Gotcha. And I also noticed you guys are doing a phenomenal job on the SEO front, like something like only 5% of your traffic, at least like from public data, looks like it's people searching for contract, but the rest of it's just like people searching for problems.\\n  SCREEN SHARING: Parthi started screen sharing - WATCH: https://fathom.video/share/DNr9zWDMgVQP_4dcV1McWjxFRdtR9tUm?timestamp=305.269291  Oh, really? It's, yeah, and I was just like that is a burden. I should know that. I'm like, that's fantastic, because yeah, our- I'm on crazy, right?  I'm looking at this, right? So I'm looking at percentage of traffic, and it's 5% on contract book, and then none of these look like contract book.  And so if I'm reading this right, 95% of people who come to your website are searching for things like contract proposal or whatever, what is ownership interest or any of this stuff, and then the wanning on your site, which is insane, because most people, most companies I talk to are just like, oh yeah, 95% of our traffic is just people searching our name because of like paid ads or events or something elsewhere.  And I'm like, oh, like, that's great, keep doing that, but you are doing basically no SEO.\\n\\n5:54 - Kate Cox (Piedpiper)\\n  These are all product-aware people.\\n\\n5:56 - Homer (Acme)\\n  They're just like coming to, searching Google for you as opposed to going to your website. That's pretty much it.\\n\\n6:01 - Kate Cox (Piedpiper)\\n  Yeah, we're actually, so it's funny. So it is good. I think a lot of those pages. So for a while, our strategy was more like, we had like a lot of dictionary pages and a lot of templates.  The problem was that those weren't really converting.\\n\\n6:17 - Homer (Acme)\\n  So like they were getting people to the site, but they're not really our target.\\n\\n6:21 - Kate Cox (Piedpiper)\\n  So like it helps us become, I guess, obviously known for knowing what contracts are and like how they work.  But right now, like one of our big things is just focusing on like a select set of keywords. But I think it's great.  Like partially, I obviously want people to be searching for us because I want people to know about our brand and I think they don't.  But yeah, we have an SEO specialist who's amazing and we have like content writers who are incredible. So I think we're doing okay.\\n\\n6:57 - Homer (Acme)\\n  We're working on it. Gotcha. It seems like perhaps maybe there was a, you skipped a step where you're like, okay, like what's, let's get all of these keywords and we'll actually start ranking for them and then maybe what should have happened was focused on the keywords, which would have converted sooner rather than just be like, Oh, like these are generally interested people in the topic.  Exactly. Exactly. And that's definitely what we're doing more of now.\\n\\n7:22 - Kate Cox (Piedpiper)\\n  Like, um, but yeah, it was, but that like for a while, like it was very much that, or like some of our big traffic, uh, articles were like, just like, um, not really related topics, just like hype trending topics, but like, are the person who, well, I guess, I don't know if it was his idea or if it was, um, somebody else's, but basically the person who was doing content before I got here is more of like a journalist and like a very curious person.  And so like, I think he, he cares more about like an interesting story. Um, which I mean, who doesn't, but, uh,  Yeah, it got us a little bit, a little bit off track.\\n\\n8:03 - Homer (Acme)\\n  Gotcha.\\n\\n8:05 - Kate Cox (Piedpiper)\\n  So we have some like stories that gained a lot of traction, but like, do they have relevance to our product?\\n\\n8:10 - Homer (Acme)\\n  To the business, gotcha. And I also noticed you guys are on Webflow and so you're publishing all of your stuff you have Webflow, right?\\n\\n8:19 - Kate Cox (Piedpiper)\\n  We are.\\n\\n8:21 - Homer (Acme)\\n  Gotcha, cool. And then in terms of being really nice and taking a call with me, apart from me being very persistent, what were you looking at to like get out of this call?\\n\\n8:35 - Kate Cox (Piedpiper)\\n  Like what's the number one thing you care about so that I can help you? I was most intrigued when you just, I think you mentioned something about, you know, kind of helping with some of those, like more like branding efforts for like getting, getting the team involved a little bit more.  Getting the team involved. And that excited me a lot because it's been, it's been difficult and I also want.  I want to provide them with as many resources as possible, I guess, without being taxing on the team, because we have a pretty small marketing team.\\n\\n9:12 - Homer (Acme)\\n  Yeah. How big is the marketing team, by the way?\\n\\n9:15 - Kate Cox (Piedpiper)\\n  How many are we now? We're very small now.\\n\\n9:19 - Homer (Acme)\\n  I have to go count. We're a 12% company.\\n\\n9:21 - Kate Cox (Piedpiper)\\n  Anything you say sounds big to you.\\n\\n9:23 - Homer (Acme)\\n  Oh, I was gonna say.\\n\\n9:23 - Kate Cox (Piedpiper)\\n  Anything that sounds big compared to that. Nine?\\n\\n9:32 - Homer (Acme)\\n  Nine.\\n\\n9:33 - Kate Cox (Piedpiper)\\n  We're at nine. We had about, I think, 15, but then a few people left voluntarily and a few people got laid off.  Now it's a baby team.\\n\\n9:46 - Homer (Acme)\\n  Nice. Okay. I know your top priority is that LinkedIn social selling. There are a bunch of other ways in which you're perhaps unaware of things you could be doing better just given all the.  stuff I've seen. Yeah. But I want to make sure that I'm focusing on like the right stuff to show you because I don't want to like just go on a tangent.  And so with Webflow, like how many writers, you mentioned you have an SEO person you're working with and writers, like what does that look like today?\\n\\n10:16 - Kate Cox (Piedpiper)\\n  Yeah, so it's a little bit different. So there's, right now we have a writer who is like a freelance writer who writes four articles for us a month.  We have our SEO person who is more like, she writes sometimes, but it's much more that she's like cleaning everything up.  She's doing backlink outreach, things like that. But she like, yeah. And then we also have basically the entire team kind of like trying to like help with SEO.  Like one of our big focuses is basically getting more, improving our rankings and also improving the click. rate for all of our high-intent keywords.  So that's the main thing that we're measuring in terms of our articles on our site is what... Yeah, basically, who's actually seeing them and who's clicking on them.  Yeah. And then for me, usually I'm sort of the one editing everything. So sometimes members of other teams who are subject matter experts will write something, but I will edit it.  And then we also accept guest posts from different partners. So usually, we have a whole partnerships team and we'll accept guest posts from them, like people that we partner with.  Gotcha.\\n\\n11:47 - Homer (Acme)\\n  And any problems with the Webflow publishing or any of that right now, like CTAs, custom code? Yep. Like any pick-ups there?\\n\\n12:00 - Kate Cox (Piedpiper)\\n  code. Annie, basically, Annie's our SEO person, so she is very good with all of that. So she just knows how to do everything.  And it's like, I think if she won the lottery or got hit by a bus, we'd be screwed. But I would say the other problem that I've noticed is that it impacts our page speed.  It's probably our worst, like the thing that we're doing worse that when it comes to ranking factors. And when we asked our developer and we asked this other guy who's way more tech-savvy on our team, he's wonderful.  When we asked them about it, they were like, oh yeah, that's Webflow.\\n\\n12:47 - Homer (Acme)\\n  It's like, we can't get it down anymore with Webflow. Yeah. Gotcha. Cool. This was super helpful. We have. 15 minutes.  I think the best thing I could do over the next 15 minutes is A, just give you a high-level overview of what Acme does and then B, talk to you very specifically about that social selling feature and then if things look interesting to you and you're like, hey Parthi, this is actually something we're interested in learning more about, we can loop in other people, set up a second call and we can do a demo of more stuff.  This is just to give you a preview of what you mostly care about.\\n\\n13:33 - Kate Cox (Piedpiper)\\n  Great, that sounds wonderful to me.\\n\\n13:35 - Homer (Acme)\\n  Cool, so Acme is a content operations platform for B2B companies and so the goal is anything that can be automated or streamlined around content marketing for B2B companies, specifically for text, we do it.  So all the way from ideation, how do we get ideas from your sales team, from straight from sealed transcripts in Gong or any other or else help you prioritize your ideas, work with other teammates to figure out what you want to be working on, planning out your content calendar, project management of those with external stakeholders like freelancers, internal stakeholders.  And then finally our CMS like helps you automatically as you optimize content, helps you write better, like makes it easy for you to edit stuff automatically.  We have some rule-based and AI-based editing and then distribution. So one click, it's live on your Webflow blog. It's posted to companies, Twitter, LinkedIn, to any personal accounts.  If you want your execs or BDR teams or whatever to be sharing that content, you can automatically do that for them.  You can automatically get your BDR team to like and comment on existing posts so that their network sees stuff, even if they're not posting themselves.  And then finally analytics. So at least from an SEO perspective, we'll connect with your search console with your Google Analytics and we'll tell you like, hey, like these are pages that need a second look.  They're almost ranking or they seem declining traffic and they need to refresh or these pages need to be split, all that kind of stuff.  So that is letter drop in a nutshell. Any questions about that?\\n\\n15:27 - Kate Cox (Piedpiper)\\n  Yeah, definitely, so, okay, so you mentioned that obviously automating things like text, so like as far as the idea gathering phase, you said like sales transcripts, like I'm just curious what that looks like and like how things get like filtered or like basically like what I see and what I have to sift through.\\n\\n15:48 - Homer (Acme)\\n  Gotcha, yeah, I'm just gonna take a note down.\\n\\n15:52 - Kate Cox (Piedpiper)\\n  Yeah, because I think one of our biggest, one of my biggest, like the thing that takes me the most time.  right now is like, I'll interview our subject matter experts and then I have to parse all of it. And like, you know, I'll use just like transcription software, but then like, other than that, usually I just like go back and like read it all or, you know, so.\\n\\n16:15 - Homer (Acme)\\n  Gotcha, cool. I can definitely show you guys. So what I can do now is I'm just going to share my screen and I'll start with the part which I think is most, most important to you, which is the social selling piece.\\n  SCREEN SHARING: Parthi started screen sharing - WATCH: https://fathom.video/share/DNr9zWDMgVQP_4dcV1McWjxFRdtR9tUm?timestamp=985.218496  So we have a page on it and you can, you can go ahead and look at this later. There's a little, like a little demo there as well.  There's also a little calculator here. And I actually went ahead and plugged in some numbers. I looked at Sales Navigator and it looks like in total, there are 50 people across like customer facing roles, like BDR sales marketing.  Heck yeah. There's about 14. LinkedIn posts in the past month on the company page. I don't know about like other like personal accounts.  And so, yeah, it's about like 350,000 impressions. You could just get for free if you just got people to engage with that content.\\n\\n17:16 - Kate Cox (Piedpiper)\\n  Just engaged, yup.\\n\\n17:19 - Homer (Acme)\\n  That's equivalent to like $2,500 in like LinkedIn ad spend. That once again, you could kind of get for free.  I don't know what your ACV looks like, but you could plug it in here and it'll give you an idea for making some assumptions around conversions, what that could look like in terms of like new bookings as well.  So just wanted to share that with you, which you can look at later.\\n\\n17:40 - Kate Cox (Piedpiper)\\n  Awesome. No, that's awesome. And I, I, I realized also, um, I need to, whenever I sell it, cause we.  Anything organic, like I think we don't realize, um, not we like, I mean, as a company, like there's like not as much, um, effort behind it and.  it kind of gets put on the back burner, but when you consider like all the quote free impressions you're getting, you're not paid for.\\n\\n18:08 - Homer (Acme)\\n  Right. Bless you.\\n\\n18:12 - Kate Cox (Piedpiper)\\n  Thank you. Yeah. Awesome.\\n\\n18:17 - Homer (Acme)\\n  Yeah. So, very specifically, what that looks like is from letter drop either when you're publishing like a long form piece of content or if you wanted to just like draft LinkedIn posts, you could do that separately.  What we would let you do is you can essentially draft your content, all that kind of stuff over here.  You can select which accounts you want to automatically like it. You can select which accounts you want to request comments from.  And then when you publish, what's going to happen is these accounts are automatic. if we're going to like this post.  They don't have to lift a finger, they don't need to do anything. We essentially just like it for them.  We let it drop, and then we can also, if you want them to comment on it, you can also ask a different subset of people to comment on it.  So what that's going to look like is, let me try to see if I have one of these lined up.  So if I open my Slack, what happens is they're going to get a DM saying, hey, Kate created this post and she'd like for you to comment on it.  Here's a draft comment she gave you. They can click on a button. What that's going to do is it's going to take them here, it's going to let them edit that draft that you gave them, and we can also use some GPT-3 stuff  ideas for like other things you might want to say in here so they can also copy this. That's even cooler.\\n\\n20:03 - Kate Cox (Piedpiper)\\n  I was just gonna say because like I think I think that that would be super helpful.\\n\\n20:09 - Homer (Acme)\\n  Great. Right. Except just don't actually say this because it's very clearly very comprehensively goes through everything. I'm like, no person actually talks like this.  No, no. But they could use it as a starting point. I'm very annoyed by the number of people who are putting chat GPT responses on LinkedIn right now because I can see them.  I can tell this is not a person. This is like way too upbeat and like way too comprehensive. So yeah.  Anyways, you can give them something to work off of and then they just click on comment and it'll automatically comment on this post for them as well.  So yeah, that's just like a way to like make it easy for distribution. The commenting requires a little bit of their input.  The liking requires no input from them whatsoever. It's just. going to happen automatically. So yeah, that's the sort of like LinkedIn distribution, social selling piece of letter drop.\\n\\n21:08 - Kate Cox (Piedpiper)\\n  That's awesome. Because yeah, right now we're like, hard. Like I think we have like a Slack channel, but you know, I've stopped putting every post in there because it just becomes spam and nobody cares.  So like I only put maybe one post in a week, like today we launched a new feature. So I put that in there, things like that.  Because that's like what I really care about them engaging with, but it would be great if they could also like my stupid memes and my, you know, all the other stuff that we also want people to see, you know?\\n\\n21:40 - Homer (Acme)\\n  Yeah. And so you can just like go in here and be like, hey, BTR team, I'm getting likes from you, whether you like it or not.  And yeah, and it just happens and that's pretty much it. It's really easy. You don't need to get them to actually join letter drop.  All you need to do is we give you this link. And so if you just plop this link into your Slack and say like, hey, can you just like sign in via this link?  It'll let them connect their LinkedIn accounts.\\n\\n22:08 - Kate Cox (Piedpiper)\\n  So they don't need actual seats and Acme to do that. Oh, great.\\n\\n22:12 - Homer (Acme)\\n  Okay, so like, yeah, so we don't need the number of seats that we have like- No, no, in Acme you just need the seats for like the actual marketing team or writers, that kind of stuff.  This is just like sales team. You wanna toss 50 salespeople in here, just give them this link. And as their accounts get connected, they'll just show up here.  Awesome. Cool, any questions about that?\\n\\n22:36 - Kate Cox (Piedpiper)\\n  I don't think so. I guess the only question is like, around like, I know that LinkedIn really hates automation and I know that they hate stuff.  I haven't seen you getting blocked, so I assume everything's cool, but like, do you have any cautions as far as like, not getting banned and stuff like that?\\n\\n22:56 - Homer (Acme)\\n  Yeah, so nothing we do is Black Hat. We're actually using the official LinkedIn API. for all of this stuff.  Oh, good. Okay. Because you can do the stuff where you get a Chrome extension and it essentially pretends to be you and there's a whole bunch of sketchy stuff and I agree with that.  Yeah. This is all done via LinkedIn's APIs and so it's pretty official. The second thing we do is we also space out the automatic likes.  So we'll take a 30-minute window and then we'll just essentially make sure all the likes don't come in at zero.\\n\\n23:24 - Kate Cox (Piedpiper)\\n  So that it looks real?\\n\\n23:25 - Homer (Acme)\\n  That it's gonna look like it. Doesn't it look like bot behavior? It's gonna look like it's gonna look like it's gonna look like it's gonna look like it's in Slack if a bunch of people came in.  Yeah. So we do that as well. But once again, it's all white hat. We don't do any black hat stuff at all.  I used to work on the search team at Google. I know the whole SEO world is just full of black hat stuff.\\n\\n23:46 - Kate Cox (Piedpiper)\\n  Yeah.\\n\\n23:48 - Homer (Acme)\\n  And I'm just like, hey, when we were at Google, I fought so much spam and dealing with this crud.  And if everybody just tried to actually help their customers and say the right thing, this would be easier. everybody.  And so I also think it's just like a losing battle to try to like hack things.\\n\\n24:07 - Kate Cox (Piedpiper)\\n  Definitely. Definitely. Cool. No, that's great to hear. I think there's been like a lot of people putting the fear out on like any automation when it comes to LinkedIn.  Like if you look at all the like different like social media Slack communities, everybody's like, no, never, don't even use scheduling tools.  And it's like, what are you talking about?\\n\\n24:30 - Homer (Acme)\\n  That's a little extreme. But yeah, I think you have to be safe about it. My LinkedIn is managed by like three people.  I have a prospecting team which goes in like, they tell me like, hey, like, here's a bunch of people in our car, our seating demographic, and you should engage with them on LinkedIn, all that kind of stuff.  So I'm very familiar with like LinkedIn automations and try to.\\n\\n25:00 - Kate Cox (Piedpiper)\\n  to figure out, okay, like what is safe and what's not safe. Cool.\\n\\n25:04 - Homer (Acme)\\n  Cool. There's a whole bunch of other stuff in here that I talked, I mentioned, but I didn't show you.  Is that something like you'd like to see now or is that- Oh yeah, I'm extremely curious.\\n\\n25:17 - Kate Cox (Piedpiper)\\n  I think, yeah, I'm trying to think of what I'm the most curious about because all of it.\\n\\n25:23 - Homer (Acme)\\n  Yeah, so there's the web flow stuff, there's the editing stuff, there's the sort of like SEO stuff. Yeah, those are the three big things probably, like SEO, editing and web flow.  Which ones of those are interesting to you?\\n\\n25:39 - Kate Cox (Piedpiper)\\n  I'm probably most curious about the SEO.\\n\\n25:41 - Homer (Acme)\\n  SEO, okay, cool. So the first thing we can do from an SEO perspective is, and this is sort of just like, Cool.  Sort of like a smarter Yoast just baked into your CMS. And so what we're going to do is we're going to go with a better URL to this page.  What this does is it scans your article, tells you it's telling you there's no alt text for our images and our images really don't have names.  So they're not gonna appear in Google image search. It's doing a link check right now. It will take a little bit.  What it's gonna do is actually, it's gonna suggest links for me as well. So tell me like, hey, these are keywords other pages are ranking for.  You've used these keywords or something similar here. Do you wanna like auto automatically like link them? Amazing. And maybe I can find something we've already run this for.  So it happens a little bit faster. That's also hasn't been run. I'll let that run in the background. The other tool is kind of like a compare tool.  This is somewhat similar to like a clear scope. So sort of like where it's heading images. media telling you what words you're using, what's not being used.  One thing that we do differently is it's a live scan every time. So it takes 20 seconds, but it is the most recent SERP for this.  You can click on any of these. You can see how people are using these terms if you wanna use them.  And it's just baked in here right on the right side. There's also like plagiarism checking. This is kind of like Hemingway, all this is just on the right side.  There's also a SERP research tool. You can put in whatever keyword you want. This is gonna get all of the headings from the top pages and just show them to you at once, bless you once again.  And it's gonna pull out things like featured by Google, those stats, any featured snippets people also ask. This last column is gonna pull out anything which looks like a statistic, so it's.  percentages, numbers from top pages in case I wanted to cite anything. Oh, that's really cool. It's really easy to find those.  And then here you can see that this finally loaded. It's pulling all the headings from these top pages for me.  The last thing or two more things on SEO will tell you, it will give you tips on making your slug good, your meta description good.  It will show you how this is going to look on Google. So you can tell if your title is going to be cut off or your meta descriptions will be cut off in Google.  Yep, so that's SEO. The last part of SEO is if you connect your Google Analytics and Search Console, what we can do for you is actually tell you when articles need to be refreshed.\\n\\n29:01 - Kate Cox (Piedpiper)\\n  out and tell you, hey, this is almost ranking or it's saying split pages. That's so helpful.\\n\\n29:06 - Homer (Acme)\\n  Yeah. So you can just look at this. That's so helpful. Right. Look through this and it'll tell you, like, okay, like you should probably like go back and like refresh that kind of content.\\n\\n29:16 - Kate Cox (Piedpiper)\\n  Okay. Great.\\n\\n29:18 - Homer (Acme)\\n  So that's everything SEO related.\\n\\n29:22 - Kate Cox (Piedpiper)\\n  Oh yeah. Our SEO person would love to see this. Yeah. Like I think I I'm hoping that she'll love it.  Like I don't, you know. Yeah.\\n\\n29:34 - Homer (Acme)\\n  Yeah. Cool. Yeah. And then the last piece. I like it because it's all just built in there. So like I miss having like, I don't know.\\n\\n29:45 - Kate Cox (Piedpiper)\\n  We don't have anything, any tools within Webflow like that are integrated. So we don't have like I used to when I was at Mailshake, we used Yoast and like, okay, yeah, it wasn't everything.  So we used phrase for like creation and then we used Yoast while we were like. uploading it for final checks.  And then we used something separate for checking what needed to be updated, things like that. But this is just the fact that it's all in one spot, I think is super helpful.  Yeah, I'm curious to see what's going on.\\n\\n30:19 - Homer (Acme)\\n  And all this content goes directly to Webflow, so you're not writing in Webflow's ugly code-esque editor. There's support, and you mentioned you're using code snippets and stuff.  And so you can actually just, instead of dealing with code, you can just load templates. So you can say like, hey, here's our CTA, here's our whatever.\\n\\n30:37 - Kate Cox (Piedpiper)\\n  Oh my God.\\n\\n30:39 - Homer (Acme)\\n  And then it just inserts them for you. So basically Annie could just be like, she could just put them all in there, and it could be like a certain kind of CTA for this type of post.  And we could just pull them. Yeah. I think that would be great. Yeah. And then other things you can do are, you're probably annoyed on Webflow where you're like, hey, I want to see how this looks like, but I'm going to publish it to see how it looks.  With Acme, you can just preview. So we don't actually publish to your live site. You can just kind of like look at, like understand like what your post is gonna look like before actually publishing as well.  Yeah, I didn't show you everything in Acme. I probably showed you like 20, 30% of all the stuff we have in here.  But once again, I don't wanna overwhelm you. I just wanted to show you.\\n\\n31:24 - Kate Cox (Piedpiper)\\n  Yeah, and also like I was gonna say, like I think I'll talk to my boss tomorrow. Yeah. And yeah, and then it would be great to, yeah, like kind of definitely Lupin Annie.  I wonder if Marpu, who's our head of demand, I think he'd be interested. Yeah. And then Derek, who's my boss.\\n\\n31:47 - Homer (Acme)\\n  Gotcha. And then we work with companies which do a ton of volume. Like you've probably seen Jacob Rutnick on LinkedIn at Scribe.  They're a customer of ours. They're publishing like 100 articles per month.\\n\\n32:01 - Kate Cox (Piedpiper)\\n  with Webflow, all that kind of stuff.\\n\\n32:03 - Homer (Acme)\\n  And so we've been able to support that volume. So if the concern is like, oh, you guys are like a year and a half old and so early, we have companies which are like a little bit more mature, like Senses and a lot of DevTools companies.  We're talking to Ramp right now, but it's a big process because they have so many people. So yeah, so like, I think from a maturity perspective, we've crossed that threshold of, oh, you should be worried about this being like a young company.\\n\\n32:36 - Kate Cox (Piedpiper)\\n  Okay.\\n\\n32:40 - Homer (Acme)\\n  In terms of next steps, what makes the most sense for you?\\n\\n32:45 - Kate Cox (Piedpiper)\\n  So I'm gonna talk to Derek tomorrow. And then I'll sort of get like a pulse check and just, I'll probably like look into some of the stuff on your site, just see if we can like sell it to him.  on just pure numbers, because he's kind of like a numbers guy.\\n\\n33:06 - Homer (Acme)\\n  Yeah, which is why we built that calculator. We were like, okay, like this is, there's a dollar number there.  So hopefully that helps.\\n\\n33:13 - Kate Cox (Piedpiper)\\n  Yeah, because I think like, I think, you know, obviously like he's, it sounds terrible. He's, not going to be like, oh, it's going to be easier for Kate to do her job.\\n\\n33:19 - Homer (Acme)\\n  So like we want to help her do her job. I want to say that I hate that part. The reality is I've talked, I've probably done like 400 sales calls at this point.  And one thing I realized was a sell is never saying like somebody can do their job better, unfortunately, because my head of marketing honestly is just like, well, it doesn't bother me.  And so the things I get excited about are more so like, okay, more distribution or like our content that should be ranking isn't ranking.  And I know about it or I have a dashboard and that gets them really excited. He's going to like.\\n\\n34:00 - Kate Cox (Piedpiper)\\n  visibility because one of his big issues right now is that we don't do a good enough job and that's on Annie and me but like we don't do a good job of like tracking and presenting that information on a regular basis so like we we have our own meetings just the two of us but like yeah we usually only share if it's like a major leap or like a problem like we don't right yeah so he doesn't usually have yeah we have like we have like a regular you know like monthly kind of recap meeting and we'll share but um but he I think he would like to be able to see it in such a plain way or like in like the part about what needs to be updated I know personally like that's what I would love because right now um there's just a lot of manual work involved and there's a lot of people trying to do a lot of things and like I think I think I think that he's going to be sold on it for the SEO reasons because we need  to improve our SEO a lot. And then, I mean, yeah. But anyway, so I'll look at it also with the numbers as far as, as we're starting to do more LinkedIn paid ads and I'm kind of gonna, I don't wanna say push against it, but like, you know, it costs us a lot of money.  And so I think pushing the idea of like, okay, this increased.\\n\\n35:24 - Homer (Acme)\\n  Totally, like if you're gonna spend money on LinkedIn ads, I think this is kind of a, I mean, it does a lot more than just that, but it's kind of like, why would you spend money when you can get this for free from our BDR team that's already connected to our prospects that is not putting our- It's gonna be more meaningful, nobody wants to see an ad.\\n\\n35:43 - Kate Cox (Piedpiper)\\n  Like it's, and I think people are getting wise to the fact that like companies are like this, but like the companies do things like this, right?  Or like that, you know, all of the, the Chili Piper team being amazing at LinkedIn is a move.\\n\\n35:57 - Homer (Acme)\\n  It's not like, you know, like, It's not like I'm gonna do this in the- I'm not a buyer of metadata.  They're way too big for me. But I just know them because Mark and Jim and all those people are just so big on LinkedIn.  And so every marketer knows they exist. And I guess we all buy from them. And so it makes sense.  I'm not in the market for contract book because we're too small. But I know you. Like I said, I was like, oh, I just saw this person keep posting about this stuff.\\n\\n36:25 - Kate Cox (Piedpiper)\\n  And I've heard of you. And I came to your book because of that.\\n\\n36:27 - Homer (Acme)\\n  And so there is it definitely works. And I think it's hard because people look at like PPC and they're like, oh, yeah, I can crack the funnel all the way.  So this is great.\\n\\n36:37 - Kate Cox (Piedpiper)\\n  I think people get really hung up on wanting to measure everything. I do. I think it's like versus being like, okay, it might be a little bit more chaotic, but like you'll get it in those nuggets, in those moments of like people being like, oh, I've heard of you or like I was on a what was it?  I was on like a webinar and Tom Slocum was. Like, Oh yeah, contract book is great and blah, blah, blah.  And it's like, he does not even a user.\\n\\n37:05 - Homer (Acme)\\n  He just knows. Right. He just first heard of you. Yeah.\\n\\n37:09 - Kate Cox (Piedpiper)\\n  So like, I think there's so much of that, especially like in the B2B community, like it's so tight knit.  And so it's, it's like you said, like, Yeah, like we're, we're also not, you know, metadata customers. We're not really there yet, but like, If we were, they would be the first people, you know, it's so defensible too.\\n\\n37:26 - Homer (Acme)\\n  It's just because it's like, it gets in, in crane in your head where there it's this company which does it.  With, with ads, like, like your competitor can pay the same amount of money and like, or like outbid you on that stuff.  They can't like get their team to like essentially so like sell you.\\n\\n37:43 - Kate Cox (Piedpiper)\\n  Cause it's actually, it's very, it's very hard. Like I think that's maybe the other reason people don't want to do it.  Cause like, yeah, there's like a lot, there's like a bigger investment and like a more long-term investment in it, but yeah, it's worth it for sure.  Cool.\\n\\n37:57 - Homer (Acme)\\n  Cool. Awesome. So yeah. If it makes sense to put time on the calendar after you've talked with whoever you need to talk to, like how long do you think it's gonna take to talk to Derek and Annie and whoever else?\\n\\n38:12 - Kate Cox (Piedpiper)\\n  Let's see. Hopefully I'll get info from him tomorrow and get like a good check and we can book something for next week. Or maybe this would make more sense for us to check out closer to the summer since people are busy with planning right now? Any time then after 2 pm works.\\n\\n38:26 - Homer (Acme)\\n  How about after 2 pm first week of June?\\n\\n38:34 - Kate Cox (Piedpiper)\\n  Eastern? It should. I just have to make sure that would work for him. So he has children, so like his schedule is a little bit different.  Let me see if I can check his, if his calendar is up to date. And since there's only like a dozen of us in the US, I feel like a lot of people are like, afternoon, that's nothing, afternoon.\\n\\n38:55 - Homer (Acme)\\n  All right, I'm not seeing anything on his calendar. Okay.\\n\\n38:59 - Kate Cox (Piedpiper)\\n  I think that would work. Okay, so I- Oh, no, no, no, I'm so sorry. Not next week, he's in Copenhagen.\\n\\n39:05 - Homer (Acme)\\n  We got through that. Okay, week after. Okay, so I am dropping- Yeah, we're doing like what they did in Boston, but with the Copenhagen.  In Copenhagen, okay. I'm dropping time on the 31st. Okay. 4 p.m. Eastern, under calendar, and then if you wanna drop Annie and Derek in there, or whoever else seems to be in there, that works.  I'll probably send you a follow-up email. I have a recording I'll send to you if you wanna go and sniff out sections and share it with them.  That'd be great.\\n\\n39:44 - Kate Cox (Piedpiper)\\n  And if you want me to talk about anything else during that call, like I didn't show you editing, I didn't show you a whole bunch of other stuff, we can go over that stuff as well.\\n\\n39:54 - Homer (Acme)\\n  Great. That sounds awesome. Cool. Yeah, really excited to finally actually talk.\\n\\n40:05 - Kate Cox (Piedpiper)\\n  We're at like a weird point. So like, it's funny, like with all the layoffs, like, at first it was like, we couldn't ask for anything.  But now it's like, oh, there's only nine of us and we're stretched really big.\\n\\n40:14 - Homer (Acme)\\n  The argument here is just like, let people do what people are good at and let the software go and like check which article needs to be updated.\\n\\n40:22 - Kate Cox (Piedpiper)\\n  Because you sure as hell don't have time to like, go through Xamarin every day. And I think like, I think it's not a good way to sell it to be like, I wouldn't do that.\\n\\n40:32 - Homer (Acme)\\n  I'm too lazy.\\n\\n40:33 - Kate Cox (Piedpiper)\\n  Like that's not a good No, it's like you should be doing better stuff with your time. That's it. I was going to say that's the way I usually like, usually sell our stuff is like, oh yeah, you don't want your sales reps to have to manually follow up with people.  Contract book does it. So yeah, same deal. Cool. Well, thank you so much. This was delightful. And and thank you for putting up with me.  I'm a little sick.\\n\\n40:56 - Homer (Acme)\\n  So pardon all the sniffling and stuff. Don't worry about it.\\n\\n40:58 - Kate Cox (Piedpiper)\\n  Everybody sniffly right now. Awesome, right? I was gonna say, it's sniffly season.\\n\\n41:03 - Homer (Acme)\\n  Cool. Awesome. Thank you, Kate.\\n\\n41:06 - Kate Cox (Piedpiper)\\n  I'll talk to you closer to the summer. I'll send you a follow-up email right after.\\n\\n41:09 - Homer (Acme)\\n  All right, talk to you soon. Bye. Yeah, bye.\", 'hidden_action_item': 'Priority: “Traditional outreach is failing and needs to invest in social selling but marketing is stretched thin\" (see 2:40)\\nEvent: “Kate to talk to her boss” (see 31:24)\\nDate: <next June> (see 38:26)\\nMessage: Hi Kate, last we spoke, it was important to understand your content workflow across clients so you can scale up your engagement size to 20k. Your trial expires tomorrow. Wanted to reconnect to see if you’re ready to make a decision to proceed or not.'}) (input_keys={'sales_call_transcript'}),\n",
       " Example({'sales_call_transcript': \"@00:02 - Chris Badder (Internal) \\nHey, Mike.\\n\\n@00:04 - Mike Liv (External) \\nHey, how's it going?\\n\\n@00:05 - Chris Badder (Internal) \\nGood.\\n\\n@00:05 - Chris Badder (Internal) \\nHow are you?\\n\\n@00:07 - Mike Liv (External) \\nOkay.\\n\\n@00:07 - Mike Liv (External) \\nSorry I'm a little late.\\n\\n@00:08 - Mike Liv (External) \\nI had to give Chrome access to use my microphone.\\n\\n@00:13 - Chris Badder (Internal) \\nNo problem.\\n\\n@00:14 - Chris Badder (Internal) \\nI get it.\\n\\n@00:17 - Chris Badder (Internal) \\nYeah, so I just wanted to jump on before we get on to do a POC kickoff call next week just to talk about maybe a couple of things you can get done prior.\\n\\n@00:25 - Chris Badder (Internal) \\nI shared that document with you.\\n\\n@00:27 - Chris Badder (Internal) \\nDid you get that?\\n\\n@00:30 - Chris Badder (Internal) \\nAn email, an Excel spreadsheet for me?\\n\\n@00:35 - Mike Liv (External) \\nI don't think so.\\n\\n@00:35 - Mike Liv (External) \\nWhen did you send it?\\n\\n@00:37 - Chris Badder (Internal) \\nI don't know.\\n\\n@00:38 - Chris Badder (Internal) \\nMaybe I'll resend.\\n\\n@00:39 - Chris Badder (Internal) \\nBut let me just share it now.\\n\\n@00:43 - Chris Badder (Internal) \\nAnd then we can just.\\n\\n@00:45 - Chris Badder (Internal) \\nSo this form has a bunch of tabs on here.\\n\\n@00:48 - Chris Badder (Internal) \\nSo one of them is a mutual action plan.\\n\\n@00:50 - Chris Badder (Internal) \\nThose are things that we, you know, for the proof of concept, getting an NDA in place, things like that.\\n\\n@00:55 - Chris Badder (Internal) \\nThat's not important right now for the POC.\\n\\n@00:59 - Chris Badder (Internal) \\nBut just to show you, the different tabs.\\n\\n@01:01 - Chris Badder (Internal) \\nSo this is a POC success criteria that we usually go off of, and you guys can review this.\\n\\n@01:08 - Chris Badder (Internal) \\nAgain, I'll send this to you, make you an editor of it, but things that we wanna get done typically in a POC and just have set up sessions that we work through, have the teams on.\\n\\n@01:26 - Chris Badder (Internal) \\nwith our engineers just to make sure we're knocking things down, right?\\n\\n@01:32 - Chris Badder (Internal) \\nYep.\\n\\n@01:33 - Chris Badder (Internal) \\nYeah.\\n\\n@01:33 - Chris Badder (Internal) \\nSo this, again, you can look at this and there might be something that you wanna add to it that you need to see.\\n\\n@01:37 - Chris Badder (Internal) \\nSome of these things might not be as important as others, but from a POC kickoff perspective, have you signed up for an account yet?\\n\\n@01:48 - Mike Liv (External) \\nNo.\\n\\n@01:49 - Mike Liv (External) \\nWell, not officially.\\n\\n@01:50 - Mike Liv (External) \\nSo my contractor that we hired, who I'm gonna have help us with this, he signed up for like a personal account just to play with it and understand what it is.\\n\\n@01:57 - Mike Liv (External) \\nWe don't have like an Explorer official one though, excuse me, that we have where I can actually grant people access to it.\\n\\n@02:03 - Mike Liv (External) \\nI was gonna do that as part of the POC.\\n\\n@02:04 - Chris Badder (Internal) \\nRight.\\n\\n@02:05 - Chris Badder (Internal) \\nAnd you can sign up for it right here, which would be, you can take that link and just sign up for it.\\n\\n@02:13 - Chris Badder (Internal) \\nBack to...\\n\\n@02:15 - Chris Badder (Internal) \\nSo back to what's kind of, that's not kind of, what is important for the POC when we do the kickoff call is having the right permissions for cloud and VCS integrations.\\n\\n@02:26 - Chris Badder (Internal) \\nAnd you might be able to do some of this when you sign up for the account, it'll take you in and there's a thing called the launch pad and you can start playing around in there and setting up.\\n\\n@02:45 - Mike Liv (External) \\nOh, I think I...\\n\\n@02:46 - Mike Liv (External) \\nAre you there?\\n\\n@02:47 - Mike Liv (External) \\nYeah.\\n\\n@02:49 - Mike Liv (External) \\nOkay.\\n\\n@02:49 - Mike Liv (External) \\nSorry.\\n\\n@02:49 - Mike Liv (External) \\nYou froze up for like five seconds, but I think I got what you said.\\n\\n@02:53 - Mike Liv (External) \\nDid you get VCS integrations?\\n\\n@02:55 - Chris Badder (Internal) \\nYeah.\\n\\n@02:55 - Chris Badder (Internal) \\nSo VCS and cloud integrations, having the right people with the right permissions on there.\\n\\n@03:00 - Chris Badder (Internal) \\nRight.\\n\\n@03:01 - Chris Badder (Internal) \\nAnd you might have those, Mike, yourself, right?\\n\\n@03:03 - Chris Badder (Internal) \\nI don't know.\\n\\n@03:04 - Mike Liv (External) \\nI do.\\n\\n@03:05 - Mike Liv (External) \\nAt least most of them.\\n\\n@03:06 - Mike Liv (External) \\nI think there's someone else who owns GitHub, but I know the guy, so we can figure that out later.\\n\\n@03:11 - Mike Liv (External) \\nOkay.\\n\\n@03:11 - Chris Badder (Internal) \\nAnd like I said, when you sign up for the account, you can start working on it to go into the launch pad and you can set up some of these integrations yourself.\\n\\n@03:18 - Chris Badder (Internal) \\nAnd then when we jump in on the POC kickoff call, we're ready to go next week.\\n\\n@03:22 - Chris Badder (Internal) \\nThat's really the purpose of this call.\\n\\n@03:25 - Chris Badder (Internal) \\nSo think about the success criteria.\\n\\n@03:26 - Chris Badder (Internal) \\nI'll share that doc with you and then we'll just manage it that way.\\n\\n@03:31 - Chris Badder (Internal) \\nWe'll have, try and have twice a week calls for a couple of weeks just to make sure we're getting everything done.\\n\\n@03:37 - Chris Badder (Internal) \\nYou know, half hour check in calls.\\n\\n@03:39 - Chris Badder (Internal) \\nWe'll get those on the calendar as well.\\n\\n@03:42 - Mike Liv (External) \\nYeah.\\n\\n@03:42 - Mike Liv (External) \\nNext week may, I mean, I want to kick it off and get it going because I know you guys have been waiting on us and this is one of our Q3 objectives because I don't know if we told you about this, but we're trying really hard to get rid of Terraform Cloud just because they're pricing associated because their support's not great.\\n\\n@03:57 - Mike Liv (External) \\nAnd so we've talked about all that in the beginning.\\n\\n@04:00 - Mike Liv (External) \\nSo we're wanting to get this vetted and get buy in from all the rest of the stakeholders across the world.\\n\\n@04:05 - Mike Liv (External) \\nAnd that's a Q3 objective for us, which is a month left.\\n\\n@04:08 - Mike Liv (External) \\nSo I wanted to at least get it going.\\n\\n@04:10 - Mike Liv (External) \\nNext week's a little rough because Monday's a holiday and then I'm actually out Thursday and Friday.\\n\\n@04:14 - Mike Liv (External) \\nSo I'll have my other guy Help that he's in a different region, like later than us.\\n\\n@04:20 - Mike Liv (External) \\nSo it may be touch and go for like the first week or so, but that's fine.\\n\\n@04:24 - Mike Liv (External) \\nWe'll do our best to get everything going.\\n\\n@04:27 - Chris Badder (Internal) \\nYeah.\\n\\n@04:27 - Chris Badder (Internal) \\nWe just have that first call next week.\\n\\n@04:29 - Chris Badder (Internal) \\nAnd then from there, we'll just that following week, we'll skip, you know, get two half hour calls on the calendar.\\n\\n@04:34 - Chris Badder (Internal) \\nThat's great.\\n\\n@04:35 - Chris Badder (Internal) \\nI knew next week would be a challenge just because it's a short week.\\n\\n@04:38 - Chris Badder (Internal) \\nI'm actually out tomorrow and Friday this week.\\n\\n@04:40 - Chris Badder (Internal) \\nSo I get it.\\n\\n@04:41 - Chris Badder (Internal) \\nTaking a little time off.\\n\\n@04:42 - Chris Badder (Internal) \\nI get it.\\n\\n@04:43 - Chris Badder (Internal) \\nSo, Yeah.\\n\\n@04:44 - Chris Badder (Internal) \\nThat's really just, having the right people on the call with the permissions.\\n\\n@04:47 - Chris Badder (Internal) \\nRight.\\n\\n@04:48 - Chris Badder (Internal) \\nCause sometimes we jump on those and then we're like, I don't have these permissions and then we get delayed.\\n\\n@04:52 - Chris Badder (Internal) \\nSo that's really the message I'll share this doc.\\n\\n@04:56 - Chris Badder (Internal) \\nAnd when's it, when is the TFC contract up?\\n\\n@05:03 - Mike Liv (External) \\nDecember.\\n\\n@05:05 - Mike Liv (External) \\nOkay.\\n\\n@05:05 - Mike Liv (External) \\nSo we'll, yeah, we'll figure out what that looks like if this ends up panning out, but I mean, we're pretty excited about it, you know, at least from the demos we've seen and just from going around that, it seems like it's going to solve a lot of problems that we have, or, you know, fill in some gaps that we were going to try to like build our own solution around.\\n\\n@05:20 - Mike Liv (External) \\nSo it's, it looks promising.\\n\\n@05:22 - Chris Badder (Internal) \\nYeah, I agree.\\n\\n@05:23 - Chris Badder (Internal) \\nAnd we're excited too.\\n\\n@05:24 - Chris Badder (Internal) \\nI mean, that's what we're, that's what we're in business right now doing is TFC and TFE replacements.\\n\\n@05:29 - Chris Badder (Internal) \\nSo we've got the migration tool.\\n\\n@05:31 - Chris Badder (Internal) \\nI've got, we got a solution architect who was in charge of that.\\n\\n@05:34 - Chris Badder (Internal) \\nNow, you know, as we're getting through the POC, you know, as a, in parallel, we can have that conversation, you know, looking at your current environment, run a script, see how many workspaces you have, what it looks like, and, give you a really tight estimate, how long that migration will take and we'll help with.\\n\\n@05:51 - Chris Badder (Internal) \\nGood.\\n\\n@05:54 - Chris Badder (Internal) \\nYeah.\\n\\n@05:55 - Chris Badder (Internal) \\nIf it, if it does work out, right.\\n\\n@05:57 - Chris Badder (Internal) \\nI mean, willing, I don't, we talked about this on the original call, you know, the contracts up at the end of December, if it's really going well, you know, we could get in into a contract, but Starklink that's or months long for the same one year cost to make sure you're off of TFC, not go up to the last minute.\\n\\n@06:13 - Chris Badder (Internal) \\nRight.\\n\\n@06:15 - Chris Badder (Internal) \\nYeah.\\n\\n@06:15 - Chris Badder (Internal) \\nDoes that make sense?\\n\\n@06:17 - Mike Liv (External) \\nYeah, it does.\\n\\n@06:17 - Mike Liv (External) \\nI really appreciate that flexibility because we, I mean, we've got it in our budget for the year to, you know, renew our contract, with HashiCorp, but you know, we'd rather use that money for someone else.\\n\\n@06:27 - Mike Liv (External) \\nSo.\\n\\n@06:28 - Mike Liv (External) \\nOkay.\\n\\n@06:29 - Mike Liv (External) \\nWell, we'll figure out how to make it work, but yeah, this is good.\\n\\n@06:33 - Mike Liv (External) \\nI'll look for that link from you and then, I'll get the account created.\\n\\n@06:37 - Mike Liv (External) \\nDo I need to send, or do I need to like post to the chat once?\\n\\n@06:40 - Mike Liv (External) \\nI don't know if there's like an account number or something that we received just so you guys can see it or.\\n\\n@06:43 - Chris Badder (Internal) \\nNo, no.\\n\\n@06:44 - Chris Badder (Internal) \\nI mean, you can share the account name when you create it.\\n\\n@06:47 - Chris Badder (Internal) \\nJust, when we have that, if it's usually it's two weeks and we try and stick to that, but obviously with next week, don't be afraid to make the account.\\n\\n@06:56 - Chris Badder (Internal) \\nCause, if I have to extend it an additional week, I have no problem.\\n\\n@07:00 - Chris Badder (Internal) \\nSo, it's not like two weeks and then we cut it off, but obviously we just want to have the sense of urgency that on both sides.\\n\\n@07:08 - Chris Badder (Internal) \\nAnd I can tell her we both have it.\\n\\n@07:09 - Chris Badder (Internal) \\nSo that that's a good thing.\\n\\n@07:11 - Mike Liv (External) \\nYeah.\\n\\n@07:12 - Mike Liv (External) \\nIt looks like, it looks like you support SSO with, Azure AD or intro or whatever they're calling themselves this week.\\n\\n@07:18 - Mike Liv (External) \\nIs that supported in the trial or is that like an add on you have to pay for it?\\n\\n@07:24 - Chris Badder (Internal) \\nNo, no, it's supported.\\n\\n@07:26 - Mike Liv (External) \\nOkay.\\n\\n@07:26 - Mike Liv (External) \\nI'll probably set that.\\n\\n@07:27 - Mike Liv (External) \\nI mean, we'll pare it down when we're done, of course, but it would be good to make sure that works with figuring out how to sync the groups and all that too.\\n\\n@07:33 - Mike Liv (External) \\nOkay, cool.\\n\\n@07:34 - Mike Liv (External) \\nI'll get it created sometime this week.\\n\\n@07:36 - Mike Liv (External) \\nAnd, yeah, we'll go from there.\\n\\n@07:39 - Mike Liv (External) \\nYou'll be on that first call next week.\\n\\n@07:41 - Mike Liv (External) \\nYeah.\\n\\n@07:42 - Chris Badder (Internal) \\nOkay.\\n\\n@07:43 - Chris Badder (Internal) \\nAnd then you're off Thursday, Friday.\\n\\n@07:45 - Chris Badder (Internal) \\nRight.\\n\\n@07:45 - Chris Badder (Internal) \\nSounds good.\\n\\n@07:46 - Chris Badder (Internal) \\nOkay.\\n\\n@07:47 - Chris Badder (Internal) \\nDid we talk about it?\\n\\n@07:49 - Chris Badder (Internal) \\nWould you guys, if it goes well, would you go through AWS marketplace or not?\\n\\n@07:53 - Chris Badder (Internal) \\nYou guys are all at straight Azure.\\n\\n@07:56 - Mike Liv (External) \\nNo, we would, if that's an option, we would actually prefer that because, that counts toward our, you know, our yearly commit, like, I mean, at least a percentage of it does.\\n\\n@08:07 - Mike Liv (External) \\nYeah.\\n\\n@08:08 - Chris Badder (Internal) \\nYeah.\\n\\n@08:08 - Chris Badder (Internal) \\nNo, we said, when it's time, we just created an offer in marketplace, with your 12 digit account number and we're good to go.\\n\\n@08:16 - Chris Badder (Internal) \\nSo that's good knowledge to know.\\n\\n@08:18 - Chris Badder (Internal) \\nSo.\\n\\n@08:20 - Mike Liv (External) \\nCool.\\n\\n@08:20 - Mike Liv (External) \\nAnd you mentioned, like NDAs and stuff, I guess there's links in that doc.\\n\\n@08:25 - Mike Liv (External) \\nSo I'll have to get those to our legal team.\\n\\n@08:26 - Mike Liv (External) \\nAnd sometimes they're not the most expeditious group.\\n\\n@08:30 - Mike Liv (External) \\nSo I can share our NDA.\\n\\n@08:32 - Chris Badder (Internal) \\nBut sometimes people like to use theirs.\\n\\n@08:34 - Chris Badder (Internal) \\nWhat do you guys like to do?\\n\\n@08:36 - Mike Liv (External) \\nOkay.\\n\\n@08:36 - Mike Liv (External) \\nI'll ask our procurement guy and see if he has anything that we need to have somebody sign.\\n\\n@08:40 - Mike Liv (External) \\nBut I mean, it's all going to be dummy data and, you know, just playing around with it anyway.\\n\\n@08:45 - Mike Liv (External) \\nYou don't need one.\\n\\n@08:46 - Chris Badder (Internal) \\nUsually people don't need one for a POC, but obviously when you guys want to see our stock too, we have a penetration test, things like that.\\n\\n@08:54 - Chris Badder (Internal) \\nBut yeah, if you could ask about that and let me know if, and if you could share it in the Slack channel or, let me know if you just want to use ours and, I'll put it in the Slack channel.\\n\\n@09:02 - Mike Liv (External) \\nOkay.\\n\\n@09:03 - Mike Liv (External) \\nI appreciate it.\\n\\n@09:04 - Mike Liv (External) \\nI'll be in touch.\\n\\n@09:05 - Chris Badder (Internal) \\nOK.\\n\\n@09:06 - Chris Badder (Internal) \\nThanks, Mike.\\n\\n@09:08 - Chris Badder (Internal) \\nHopefully this was worth jumping on just to kind of walk through.\\n\\n@09:12 - Mike Liv (External) \\nYeah, it is.\\n\\n@09:12 - Mike Liv (External) \\nIt gives me a, my next step.\\n\\n@09:14 - Mike Liv (External) \\nSo, we'll get those done.\\n\\n@09:16 - Chris Badder (Internal) \\nAll right.\\n\\n@09:16 - Chris Badder (Internal) \\nThank you.\\n\\n@09:17 - Chris Badder (Internal) \\nI'll talk, I'll see you in Slack and talk to you soon.\\n\\n@09:19 - Chris Badder (Internal) \\nSounds good.\\n\\n\", 'hidden_action_item': 'Priority: “Get rid of Terraform Cloud in Q3 because support is not great\" (see 3:42)\\nEvent: “TCF contracts expires” (see 31:24)\\nDate: <next December> (see 5:03)\\nMessage: Hi Mike, last we spoke, it was important to move off Terraform Cloud in Q3. I know your contract ends in December. Wanted to reconnect to see if we’re on track to replace TFC.'}) (input_keys={'sales_call_transcript'}),\n",
       " Example({'sales_call_transcript': \"Acme Demo for Swati - September 13\\nVIEW RECORDING - 28 mins (No highlights): https://fathom.video/calls/141270041\\n\\n---\\n\\n0:08 - Ryan Patel\\n  Hey, brother, do you want to try this one? can do it.\\n\\n0:21 - Homer (Acme)\\n  But if you wanted to, because I know the qualification is, like, we have to figure that out. But if you feel like it, and based on a conversation stream, I'm happy to let you try it, just because I have low confidence, but otherwise I'm happy to do it, but completely puke.\\n\\n0:35 - Ryan Patel\\n  You're not prepared. That's fine. Yeah, this would be normal. I would normally be super gun code to take, but, like, I did the prep a couple of days ago, and I don't feel prepped to just to do it right now.\\n\\n0:45 - Homer (Acme)\\n  Gotcha.\\n\\n0:46 - Ryan Patel\\n  Okay. No worries. Okay.\\n\\n0:47 - Homer (Acme)\\n  In the future, like, something like this would be something, you know, just like, hey, like, there's more kids here.  I'm happy to do that, but yeah, I mean, you've already been doing this, but if have any questions or you feel like you want to enter.\\n\\n1:00 - Ryan Patel\\n  Check. Go for it. Okay. Sounds good. All right. She's here saying a letter. He was joining and now I was not joining back.\\n\\n2:14 - swatityagi\\n  Hi, can you hear me?\\n\\n2:17 - Ryan Patel\\n  Yeah, hi, how's it going?\\n\\n2:18 - swatityagi\\n  Is it swati or swati?\\n\\n2:21 - Ryan Patel\\n  Swati. gotcha.\\n\\n2:24 - swatityagi\\n  We're good. Wi-Fi issues out here, so I've got my house there.\\n\\n2:31 - Ryan Patel\\n  Gotcha. It looks like a we-work background on a we-work season pro, if I'm right there.\\n\\n2:42 - swatityagi\\n  No, well, so I think we have the phone booths that we work uses, but that's just because we don't have enough meeting rooms.  So, we bought bunch of like phone booths so we can meet more, but we're still in our office. We're based in Ann Arbor, or based in  Sweden this office is in Ann Arbor.\\n\\n3:02 - Ryan Patel\\n  Yeah, I saw you went to Michigan, you know to stick around little bit.\\n\\n3:06 - swatityagi\\n  Yeah, well Well, I grew up in Ann Arbor and I just like never left and I'm fine with that.\\n\\n3:15 - Ryan Patel\\n  It's a great city Yeah, I've never been I went up to Holland in Michigan once before and it was a lot like smaller town, but it was really beautiful.\\n\\n3:26 - swatityagi\\n  liked it a lot For the the tulip thing Uh, so I a friend that went to hope and I was like visiting them.\\n\\n3:33 - Ryan Patel\\n  He was a couple of years ago Um But yeah, we're excited to meet you. appreciate you taking the time.\\n\\n3:40 - Homer (Acme)\\n  I'll sort of let part the uh jump in Yes, I know Ryan you chatted earlier and you guys had talked about it some ABM strategies and stuff he's been up.  So um, yeah excited to to meet you and uh learn a little bit more about Uh, what's going on and let me know if i'm seeing this right it's modalon\\n\\n4:00 - swatityagi\\n  on or.\\n\\n4:01 - Homer (Acme)\\n  Okay, gotcha. Yeah, I just want to learn what's going on in monologue, like what you're thinking about. And then if we see an opportunity where we could be helpful, I'd love to show you a little preview of what we do.  And we can talk about next steps as it makes sense.\\n\\n4:20 - swatityagi\\n  Does that sound like a plan to you?\\n\\n4:22 - Homer (Acme)\\n  Sure. Absolutely. I know Ryan initially reached out and used, you said yes to a meeting and that was largely around you spinning up some EBM strategies and trying to figure out how to make them more effective.  But I'll let you speak for yourself over here. What made you want to take initial call with us?\\n\\n4:42 - swatityagi\\n  Yeah, I mean, I think for me, I'm just curious about what you guys do. I'm not honestly, we're kind of in a space where strategy is shifting.  So I don't know if you've like read about modern in the news, but we do have a new CEO.  He's actually in the office today, but with him coming on board and we're making decisions regarding where to focus and that's going to drive our ABM strategy obviously.  I still believe that ABM is going to be key for us just because for us to reach our revenue numbers, it's really just you know a few accounts that we need to get.  We just need to make sure that we're getting the right accounts. So ABM I see is two, there's two components to it.  There's the you know the searching and the research and finding the actual accounts that you would want to target and that's informed by the larger strategy and then there is the actual execution of ABM and so what I understand letter drop to be doing is on the execution side.  Although I will say that we are currently in and the research and strategy side of things.\\n\\n6:05 - Homer (Acme)\\n  Gotcha. And yeah, and that totally makes sense. of change and you guys have to figure out where what you want to be doing at any point in time.  so I think maybe what makes sense for this conversation is more showing you, okay, when you get to that execution side of things, what are the problems you might start running into and what's out there and how things like us might be able to help.  You said new CEO of different priorities. So it sounds like ABM was a priority back previously. What are your new CEOs priorities?  this is. Yawn. Yawn, yawn. Okay. guess out in Sweden, it's the day and the wide thing.\\n\\n6:51 - swatityagi\\n  What is any big shifts or like what is the on focus on right now? I think he's focused on the same thing, really.  are, we were a services company that switched to a product company. I think pitfalls that come with that is when you are a services company, you have a variety of people that you are servicing, and when you switch to your product, all of a sudden you can't serve as many people as maybe you could on the consulting side when it comes to, you know, industries or demographics of the companies, but there is scalability there.  So I think bridging that gap completely is kind of what he's focused on.\\n\\n7:40 - Homer (Acme)\\n  Gotcha. And the switch from services to product, this happened over a while ago, or is this like a more recent thing?\\n\\n7:53 - swatityagi\\n  Technically, it happened 2020. I would not say that we really like put that into effect until 2020. But you have confidence that with the new product, you have the ability to like go to market and sell it in some capacity at this point in Yeah, I mean, we have, we have great customers.  mean, a lot of our customers are portion 500 companies. So, you know, NASA carrier. I can't remember now. But yeah, so you've sold this.  think what we're trying to find is a lot of those. Out of our sales, there's probably a few that we would want to see as.  Repeatable and we want to find companies exactly like those. Because some of them are also just based on our previous relationships with them as consultants.  So it's more services than this product, even if they do have our product.\\n\\n8:58 - Homer (Acme)\\n  Gotcha. Gotcha. And so this is this is what like I saw Thomas, Matt, Peter, if I'm saying that right.  know there's an I in there. Those folks are really just focused on the sales side of the house and they're closing those deals largely through prior relationships that you've had through services and then they sold a product and now it sounds more so like okay like how do we figure out a repeatable way to acquire those customers is really where we are.  Okay gotcha. And what's been working so far? In what sense? I know you said you were thinking about maybe I'm strategy retool Ryan that hadn't had hand out quite as you expected but I'm just curious is it just like called email right now like events like what's what's working?\\n\\n9:49 - swatityagi\\n  Right.\\n\\n9:50 - Homer (Acme)\\n  I think events have been working.\\n\\n9:53 - swatityagi\\n  Again I would not say we're on the execution side of things yet. Basically we're starting is the beginning of last year we came out with these focus verticals.  These focus verticals, so we do aerospace automotive energy and HVAC. And basically we I guess came up with these like certain areas that we can provide value, so that could be hydrogen storage in aviation for example.  Now naturally what you would want to do is find accounts within that sort of focus vertical and then deploy AVM strategies to get those accounts.  Now before you can do that though you have to validate your assumptions to start like we're offering the solution this is something that these people could need.  I would say we're like just now getting a hang of the validation. part. So we are kind of noticing that there are solutions that we thought were great, but they don't have any like, there's no market for them, because every single person that we ask, they're like, that's not really something that we're focused on.  So, you know, maybe one of our customers really wanted to do that, but none of the 20 others in aerospace do.  So yeah, I think, mean, we can decide to have this conversation with letter drop at like, or execution time as well.  But I do think we're still in like the research phase. Well, in the research phase, that's cool.\\n\\n11:42 - Homer (Acme)\\n  Yeah. And so once you, let's say you start moving into the execution phase, do you have an idea for what that plant, what that execution might look like right now?\\n\\n11:56 - swatityagi\\n  Yeah. want there to be 15 companies per whatever. solution that we have 15 to 20 companies that we're focusing on.  ABM I think is like, it really is like a broad term, but like I see it more as like this collaboration between marketing and sales, so that's called emailing, that is direct mailing, that is setting up a user conference near them, that is sending them relevant material, putting up customized landing pages.  It really just depends on kind of the data that we're seeing as we go through every round of execution.  So let's say we do find certain strategies are finding traction, first of all, we need to find a way to measure that, measure that traction and then continue to make these decisions and what we invest in as we go forward.\\n\\n12:55 - Homer (Acme)\\n  Action. I know it's like typically when a company is also through AVM, they're also thinking display ads or just kind of warming up, but that's something that you guys are thinking about as well.\\n\\n13:08 - swatityagi\\n  Yeah, I mean, for the right companies, of course, we want to do remarketing ads or, yeah, we want to do remarketing ads.  Display ads are tough, just because for those to really work. So we, we target engineers, simulation engineers. And so LinkedIn is like where we have the biggest following, but it's not where these folks are.  lot of engineers, they just aren't on LinkedIn. So there's Google. We did do Google search ads. Those work fairly decent for us.  Display ads are a whole lot of investment before you get some sort of traction. mean, you can't just put $500 behind the campaign, that it just does something.  So we're also in a stage where we're being incredibly cost conscious. So I would not deploy display ads as our first line of defense there.\\n\\n14:07 - Homer (Acme)\\n  Gotcha. Yeah, I think I noticed that I looked at Euroimpton ad library and there was just this one campaign which I'd ever run.  Gotcha. These engineers, where, how do you reach these folks, where they hang out online?\\n\\n14:26 - swatityagi\\n  Yeah, I mean, so they're pretty nerdy. They read publications and you know, they're on GitHub and, but yeah, I think we find them a and then cool emailing too.\\n\\n14:58 - Homer (Acme)\\n  That works sometimes. Gotcha. So, what will say is that our solution is like very LinkedIn oriented right now, and so if you don't feel like the folks there are on LinkedIn, even like our decision makers even there, or is it just like truly like decision makers are there, but we've already tried the strategy of going after the decision makers first, and then going after the and that doesn't work as well because we are such like a niche industry that we really need to get that buy-in with those engineers before we can even reach those decision makers.\\n\\n15:36 - swatityagi\\n  If they aren't going to be the main user, expectations get incorrectly set, when they reach evaluation, we do run into trouble, so that's not a path like us to go down.\\n\\n15:49 - Homer (Acme)\\n  Gotcha, gotcha, you're not going to have to make the decision makers over there, gotcha. do you know these engineers are on any other part, like is creating content for these simulation engineers and\\n\\n16:00 - swatityagi\\n  I mean, we do like employ a decent SEO strategy and I'm not saying they're not on LinkedIn. I'm just saying that like for them to be spending that much time to be served an ad over and over again and then be influenced by that ad because it doesn't just run impression to convert somebody usually takes multiple impressions.  They are not spending as much time on it as like somebody in marketing like me or like something sales like you guys are spending.  So I think we're more susceptible to responding to display ads on LinkedIn than them.\\n\\n16:41 - Homer (Acme)\\n  Gotcha. Gotcha. Cool. The reason I asked that is that part of our solution, which in the only way I think this is relevant to you is we do help you almost automatically create thoughtful, helpful thought leadership content largely deployed on  LinkedIn, that's because last century, you'd be buyers and decision makers are there. Like your buyers, if you knew where your buyers were, obviously, we can help you like deploy that elsewhere, but essentially that's the reason why I asked.  So what we do is we listen to calls like this. And so you start sharing your problems. So you just shared a problem with this in terms of, hey, what happens when the people I'm trying to sell to are not on LinkedIn, for example?  What Letter Drop is doing is we have all these meeting reporters in here. It's picking up all that kind of stuff and it's turning that into that leadership.  And then we just use that to help you make your sellers like the folks in here, like Matt and Peter and folks like that, just build more trust with the folks that they're selling to.  And then we collect a lot of data on which again, not relevant to you by who's in market and who's not.  So the only way I think if you're pretty set on like, hey, if you know that LinkedIn is not going to work for you, I think that is possibly relevant here is the fact that we can help you create that content.\\n\\n18:13 - swatityagi\\n  But I don't know where you would essentially deploy it if people are on like Twitter or something along those lines.  Let me say this, LinkedIn is helpful for But with the current strategy we have of just kind of like.  Spring and praying, I guess. It's not as effective right now. We have to find different ways to reach people.  However, once we do find a focus, which I'm hoping happens like within the next month.\\n  ACTION ITEM: Review Acme info sent by Ryan, prepare relevant call recordings for next demo - WATCH: https://fathom.video/share/FFzDNbsUwto_ABYiDPsQABXqse86A9SG?timestamp=1129.9999\\n\\n18:54 - Homer (Acme)\\n  Yeah.\\n\\n18:57 - swatityagi\\n  Then I think we can reevaluate what we did again. and see that would actually work for us because then it's going to be a different research initiative and I may be wrong.  So what I would recommend is, I know Ryan sent over some information on letter drop, I'll look at that more deeply, but I would actually suggest that we have this conversation, revisit this like we have conference, I'm pretty busy October, November might be a good time and that's also October, November is one of our fiscal year and so it's actually probably a really good time.\\n  ACTION ITEM: Schedule follow-up demo with Swati for first week of November, same time - WATCH: https://fathom.video/share/FFzDNbsUwto_ABYiDPsQABXqse86A9SG?timestamp=1172.9999\\n\\n19:43 - Homer (Acme)\\n  Gotcha, cool. We can reach out then, I think in terms of prerequisites or what would make sense for other conversations that you start feeling little bit more strongly about LinkedIn.  If you don't feel strongly about that, I want to raise your time as well as your time because if the simulation engineers are in hacker news instead.  And that's where you should be focusing your time. So I totally get that.\\n  ACTION ITEM: Send follow-up info on Acme to Swati - WATCH: https://fathom.video/share/FFzDNbsUwto_ABYiDPsQABXqse86A9SG?timestamp=1208.9999\\n\\n20:06 - swatityagi\\n  Yeah. mean, feel free to shoot over a note in November. if I still feel the way that I feel that LinkedIn, then.\\n\\n20:14 - Homer (Acme)\\n  Yeah. what I'd love to do today, just to give you an idea. you can watch this on your phone when Ryan sends you some follow-up stuff.  I'm just going to show you very quickly what this kind of looks like, so you have an idea for what is possible over here.\\n  SCREEN SHARING: Homer started screen sharing - WATCH: https://fathom.video/share/FFzDNbsUwto_ABYiDPsQABXqse86A9SG?timestamp=1227.502424  So what we do, essentially, is we say, OK, but you mentioned cold email, right? Good sales is really multi-channel.  We're just hitting up people across any lane which you can reach them. And I think a good chunk of people use LinkedIn for games and stuff.  What we do is we just say, OK, there's a bunch of hidden pipeline on LinkedIn, and then we're essentially helping you scale this channel very effectively.  And so the way we do that is, number one, we help you create demand. So we listen to calls like this and help you create thought leadership content, and then after it later.  So I'll show you that first bit, which is helping you create that content, right? So I'm in LinkedIn, I have the Chrome extension, the letter drop Chrome extension installed.  It's auto-connecting with my target buyers for me, all that kind of stuff. And so now, when I to create content, all I need to do is open this up, and then it'll take care of a lot of stuff for me.  On the right side, I see all these ideas that are being pulled from our sales calls. And I can search through these, I can pull through through these, all that kind of stuff for good ideas.  Here that Ryan, for example, talked to VP of sales, Neil's about building credibility and trust as a salesperson, and then letter drop instantly takes that conversation and helps us turn that into that leadership.  And you can take a second to read this to confirm that it's not crap. But yeah, it's essentially coming from Jenny.  when insights and internal data, we're also pointed data from like your blogs, sales decks, webinars, anything like that, and we have lots of templates to make it sound very human, and you can add your own.  in under four minutes, our guarantee is you can create credible thought leadership that's going to really resonate with your buyers.  And this is going to just help Matt, Peter, all this kind of folks just like connect better, perhaps even drive inbound, all that good stuff.  And we have like a calculator, like a modeler, like a spreadsheet for you to figure out, hey, like financially, what could this look like for us?  But yeah, that's basically the gist of it.\\n\\n22:41 - swatityagi\\n  I think the thing which you don't know about is like, yes, we can create this content, but where would you put it?\\n\\n22:46 - Homer (Acme)\\n  So that's in front of the simulation engineers, which is it's all linked in as it's kind of like an open question for you guys.\\n\\n22:52 - swatityagi\\n  I'm really glad you showed me this because I didn't know this is what you meant by like thought leadership content on LinkedIn.  This is definitely something. that I think perhaps I'd be more interested in on an earlier time scale rather than later.  I just have to think about it, but I think one of the issues that we're having is just the reach that our sales folks and even our CEO has or like the lack of, and on the marketing side, we're a very small marketing team.  mean, I've got two people that directly report to me and then agencies, so I don't really have time to be drafting these things for people.  So yeah, I think this part specifically could be useful for us. The ABM part, I just don't think we're there yet.  Yeah.\\n\\n23:56 - Homer (Acme)\\n  And this is going to help with the ABM part because right now nobody wants to connect with.\\n\\n24:00 - swatityagi\\n  not because he's trying to sell them something.\\n\\n24:02 - Homer (Acme)\\n  But Matt was talking about this stuff, suddenly they're like, hey, this Matt person seems to be talking about something that's really relevant.\\n\\n24:08 - Ryan Patel\\n  So, and the other part of it is like with an ABM strategy, Matt is probably going and connecting with like decision makers at those small list of target accounts, and then they accept that connection request.  Now they're getting this thought leadership, and you can sort of a way to directly reach the decision makers that you want to your target accounts.\\n\\n24:31 - swatityagi\\n  Yeah. Yeah, I'm really glad you showed me that. Yeah, it's just something. When it comes to pricing, where are you guys at?\\n\\n24:42 - Homer (Acme)\\n  Yeah, I didn't show you the entire platform. I showed you like a little bit over there, but we started 12k as our platform and really depends on like features and number of seats and all kind of stuff.\\n\\n24:56 - swatityagi\\n  Okay.\\n\\n24:57 - Homer (Acme)\\n  All right. What I did not show you is, what you can do after you post this stuff. We will actually help you identify who is engaging, who's in market, how to reach out to them, what they care about all that kind of stuff.  I'd be happy to show that to you longer demo. You mentioned like earlier timeline, and this is something that you're maybe interested in a bit sooner.\\n\\n25:19 - swatityagi\\n  Like what does that look like for you? Sometimes this year is what I would say.\\n\\n25:30 - Homer (Acme)\\n  This year, gotcha. And when you said you were interested in this sooner than the APM execution, what made you say like, Hey, this was interesting to me on a, on a serial timeline.\\n\\n25:41 - swatityagi\\n  I mean, I just think that this is in, it's like a low lift, medium impacting that, you I don't need to like, there's not that many like steps before that need to have to deploy something like this, whereas ABM there's like,\\n\\n26:00 - Homer (Acme)\\n  so many steps for us to just like yeah get somewhere you know gotcha okay um cool and so you said sometimes this year I know this month you're thinking your heads down focus on on the research case do you think like maybe connecting in like a month or so make sense so this month is just terrible for any like my brain cannot go any house except we have a user conference coming out in October and that is what my team of three is working on and it's in Copenhagen so it's just like going on right now um I would need a month after October to really focus on this again I'm thinking November gotcha do you want me to drop time for um like first week of November then yeah that'll work okay let's do that so um same time around I mean it's it's November so it's pretty far out let's let's  We're out there and then kind of what we did this past week, if something happens, like figure out what the right time is.\\n\\n27:07 - swatityagi\\n  I appreciate you guys being flexible with my schedule. It's been not predictable.\\n\\n27:13 - Ryan Patel\\n  so, yeah, yeah, I'm worried. And when we talk again, what we could do is we could actually, if you have like transcription call recordings, we could create content from your calls on that second demo.\\n\\n27:27 - swatityagi\\n  So usually people find that it just helps them wrap their head around like what it would actually look like for them in practice.  And if it would go for the needle. Yeah, I have some recorded like interviews with people that I'm doing that are okay to be released.\\n\\n27:44 - Ryan Patel\\n  is there sales team recording, like their calls with a dog or like players or like that? They should, but they are.\\n\\n27:57 - Homer (Acme)\\n  Okay.\\n\\n28:00 - swatityagi\\n  All right, well, thank you so much friends.\\n\\n28:03 - Homer (Acme)\\n  I will talk to you guys in November. Absolutely, thank you. Have a good luck with the conference. Yeah, have fun and go over again.  Bye. Thank you.\", 'hidden_action_item': 'Priority: “Increase thought leadership as part of ABM execution\" (see 22:42)\\nEvent: “ABM research is complete” (see 9:53)\\nDate: <next December> (see 5:03)\\nMessage: Hi Swati, hope your conference in Copenhagen went well. When we last spoke, you were wrapping up the ABM account research phase. You mentioned you’d be able to enter the execution phase. Wanted to reconnect to see if you’re ready to improve Jan’s LinkedIn presence to reach key decision makers in November.'}) (input_keys={'sales_call_transcript'})]"
      ]
     },
     "execution_count": 6,
     "metadata": {},
     "output_type": "execute_result"
    }
   ],
   "source": [
    "labeled_dataset = []\n",
    "\n",
    "for k,v in labels.items():\n",
    "    labeled_dataset.append(dspy.Example(sales_call_transcript = transcripts[k], hidden_action_item = v).with_inputs(\"sales_call_transcript\"))\n",
    "\n",
    "labeled_dataset"
   ]
  },
  {
   "cell_type": "code",
   "execution_count": 10,
   "metadata": {},
   "outputs": [],
   "source": [
    "class Assess(dspy.Signature):\n",
    "    \"\"\"Evaluate the quality of a system's answer to a question according to a given criterion.\"\"\"\n",
    "    \n",
    "    criterion: str = dspy.InputField(desc=\"The evaluation criterion.\")\n",
    "    sales_call_transcript: str = dspy.InputField(desc=\"The sales call transcript that system had to analyze.\")\n",
    "    ground_truth_answer: str = dspy.InputField(desc=\"An expert written Ground Truth Answer for the sales call transcript.\")\n",
    "    predicted_answer: str = dspy.InputField(desc=\"The system generated action item for given transcript.\")\n",
    "    rating: float = dspy.OutputField(desc=\"A float rating between 1 and 5\")\n",
    "\n",
    "\n",
    "def metric(gt, pred, trace=None):\n",
    "        alignment_criterion = \"How accurately does system predict the most important action items in the sales call transcript?\"\n",
    "        return dspy.TypedPredictor(Assess)(criterion=alignment_criterion,\n",
    "            sales_call_transcript=gt.sales_call_transcript,\n",
    "            ground_truth_answer=gt.hidden_action_item,\n",
    "            predicted_answer=pred.hidden_action_item\n",
    "        ).rating"
   ]
  },
  {
   "cell_type": "code",
   "execution_count": 11,
   "metadata": {},
   "outputs": [
    {
     "name": "stderr",
     "output_type": "stream",
     "text": [
      "\n",
      "  0%|          | 0/4 [00:00<?, ?it/s]\n",
      " 25%|██▌       | 1/4 [00:06<00:20,  6.84s/it]\n"
     ]
    },
    {
     "name": "stdout",
     "output_type": "stream",
     "text": [
      "Bootstrapped 1 full traces after 2 examples in round 0.\n"
     ]
    },
    {
     "name": "stderr",
     "output_type": "stream",
     "text": [
      "\n",
      "  0%|          | 0/4 [00:00<?, ?it/s]\n",
      " 50%|█████     | 2/4 [00:07<00:07,  3.88s/it]\n"
     ]
    },
    {
     "name": "stdout",
     "output_type": "stream",
     "text": [
      "Bootstrapped 2 full traces after 3 examples in round 0.\n"
     ]
    },
    {
     "name": "stderr",
     "output_type": "stream",
     "text": [
      "\n",
      "  0%|          | 0/4 [00:00<?, ?it/s]\n",
      " 75%|███████▌  | 3/4 [00:09<00:03,  3.23s/it]\n"
     ]
    },
    {
     "name": "stdout",
     "output_type": "stream",
     "text": [
      "Bootstrapped 3 full traces after 4 examples in round 0.\n"
     ]
    }
   ],
   "source": [
    "from dspy.teleprompt import BootstrapFewShot\n",
    "\n",
    "for i in range(1, 4, 1):\n",
    "    teleprompter = BootstrapFewShot(metric=metric, max_bootstrapped_demos=i, max_rounds=1)\n",
    "    compiled = teleprompter.compile(action_item, trainset=labeled_dataset)\n",
    "    # compiled_score = evaluate(compiled, metric=MetricWrapper)\n",
    "    # print(f\"\\n\\033[91mCompiled Score at Demos = {i}: {compiled_RAG_score}\\n\")"
   ]
  },
  {
   "cell_type": "code",
   "execution_count": 12,
   "metadata": {},
   "outputs": [],
   "source": [
    "# compiled.save(r'dspy_files\\bsfs_1.json')"
   ]
  },
  {
   "cell_type": "code",
   "execution_count": 8,
   "metadata": {},
   "outputs": [],
   "source": [
    "# compiled = action_item.deepcopy()\n",
    "# compiled.load(path=r'dspy_files\\bsfs.json')"
   ]
  },
  {
   "cell_type": "markdown",
   "metadata": {},
   "source": [
    "## Initial test results"
   ]
  },
  {
   "cell_type": "code",
   "execution_count": 16,
   "metadata": {},
   "outputs": [
    {
     "name": "stdout",
     "output_type": "stream",
     "text": [
      "4tools: \n",
      "Priority: “Test the workflow into assigning it to writers, getting pieces written, and pushing it directly into our sandbox site\" (see 41:04)\n",
      "Event: “Taylor's trial extension” (see 41:53)\n",
      "Date: <next two weeks> (see 43:18)\n",
      "Message: Hi Marc, last we spoke, it was important to test the workflow into assigning it to writers, getting pieces written, and pushing it directly into your sandbox site. I have extended Taylor's trial for another week. Wanted to reconnect to see if you’re ready to make a decision to proceed or not.\n",
      "\n",
      "-----------------------------------\n",
      "\n",
      "baselifesciences: \n",
      "Priority: “Schedule a workshop to focus on a feature that the team might want to use but haven't had time to dive into\" (see 8:39)\n",
      "Event: “Team's availability in September or October” (see 8:39)\n",
      "Date: <September or October> (see 8:39)\n",
      "Message: Hi Jonathan, last we spoke, it was important to schedule a workshop to focus on a feature that the team might want to use but haven't had time to dive into. Wanted to reconnect to see if you’re ready to proceed with scheduling the workshop in September or October.\n",
      "\n",
      "-----------------------------------\n",
      "\n",
      "bookstar: \n",
      "Priority: “Discuss social selling and SEO improvements\" (see 2:03 and 6:01)\n",
      "Event: “Follow-up call with Derek and Annie” (see 31:24)\n",
      "Date: <first week of June> (see 38:26)\n",
      "Message: Hi Kate, last we spoke, it was important to discuss social selling and SEO improvements. Wanted to reconnect to see if you’re ready to proceed with the next steps.\n",
      "\n",
      "-----------------------------------\n",
      "\n",
      "calmsea: \n",
      "Priority: “Discuss internally about using Acme's platform and freelance writers\" (see 27:37)\n",
      "Event: “Internal discussion completion” (see 28:39)\n",
      "Date: <end of next week> (see 28:43)\n",
      "Message: Hi Andi and Jodi, last we spoke, you were considering using Acme's platform with your freelance writers. Wanted to reconnect to see if you’re ready to proceed with the next steps.\n",
      "\n",
      "-----------------------------------\n",
      "\n",
      "deel: \n",
      "Priority: “Automate social media amplification and increase content distribution efficiency\" (see 4:18 and 6:49)\n",
      "Event: “Follow-up call with CEO” (see 44:23)\n",
      "Date: <next week> (see 44:23)\n",
      "Message: Hi Guillermo, last we spoke, it was important to automate social media amplification and increase content distribution efficiency. Wanted to reconnect to see if you’re ready to proceed after your conversation with your CEO next week.\n",
      "\n",
      "-----------------------------------\n",
      "\n",
      "explorer: \n",
      "Priority: “Test Starlink platform with current deployments and provide feedback\" (see 45:45)\n",
      "Event: “Follow-up meeting with lead for deep dive into specific topics” (see 45:24)\n",
      "Date: <next two weeks> (see 45:45)\n",
      "Message: Hi Lyle, last we spoke, it was important to test the Starlink platform with your current deployments and provide feedback. Wanted to reconnect to see if you’re ready to proceed with the follow-up meeting for a deep dive into specific topics.\n",
      "\n",
      "-----------------------------------\n",
      "\n",
      "keeper: \n",
      "Priority: “Ensure Webflow performance optimization and migration from Ghost\" (see 4:14 and 5:13)\n",
      "Event: “Follow-up demo with Ryan, Amy, and Danielle” (see 28:27)\n",
      "Date: <March 28th, morning Pacific> (see 28:59)\n",
      "Message: Hi Ryan, last we spoke, it was important to ensure Webflow performance optimization and migration from Ghost. Wanted to reconnect to see if you’re ready for the follow-up demo with Amy and Danielle on March 28th.\n",
      "\n",
      "-----------------------------------\n",
      "\n",
      "lasebane: \n",
      "Priority: “Explore sentiment analysis and SEO tools for cross-selling and content optimization\" (see 6:41 and 16:47)\n",
      "Event: “Follow-up call in a couple of months” (see 36:00)\n",
      "Date: <two months from now> (see 36:00)\n",
      "Message: Hi Saad, last we spoke, it was important to explore sentiment analysis and SEO tools for cross-selling and content optimization. Wanted to reconnect to see if you’re ready to proceed with the next steps.\n",
      "\n",
      "-----------------------------------\n",
      "\n",
      "mode: \n",
      "Priority: “Review Acme info sent by Ryan, prepare relevant call recordings for next demo\" (see 18:13)\n",
      "Event: “Follow-up demo with Swati” (see 19:43)\n",
      "Date: <first week of November> (see 19:43)\n",
      "Message: Hi Swati, hope your conference in Copenhagen went well. When we last spoke, you were interested in reviewing the Acme info sent by Ryan and preparing relevant call recordings for our next demo. Wanted to reconnect to see if you’re ready to proceed with the follow-up demo in November.\n",
      "\n",
      "-----------------------------------\n",
      "\n",
      "ss: \n",
      "Priority: “Schedule a demo for Letterdrop with Alex, content manager, and CEO\" (see 20:07)\n",
      "Event: “Content strategy overhaul completion” (see 19:46)\n",
      "Date: <November 21st, 3 PM Eastern> (see 22:36)\n",
      "Message: Hi Alex, last we spoke, it was important to schedule a demo for Letterdrop with you, your content manager, and your CEO. Wanted to reconnect to see if you’re ready to proceed with the demo on November 21st at 3 PM Eastern.\n",
      "\n",
      "-----------------------------------\n",
      "\n",
      "stackcentral: \n",
      "Priority: “Sign up for a free trial and evaluate the tool for guest post quality and SEO optimization\" (see 30:23 and 32:16)\n",
      "Event: “Follow-up call to discuss trial experience” (see 35:49)\n",
      "Date: <6th of January> (see 36:25)\n",
      "Message: Hi Monika and Maria, last we spoke, it was important to sign up for a free trial and evaluate the tool for guest post quality and SEO optimization. Wanted to reconnect to see if you’re ready to discuss your trial experience on January 6th.\n",
      "\n",
      "-----------------------------------\n",
      "\n",
      "xp: \n",
      "Priority: “Set up cloud and VCS integrations with the right permissions before POC kickoff call\" (see 2:15 and 2:55)\n",
      "Event: “POC kickoff call next week” (see 0:17 and 3:18)\n",
      "Date: <next week> (see 3:18)\n",
      "Message: Hi Mike, last we spoke, it was important to set up cloud and VCS integrations with the right permissions before the POC kickoff call. Wanted to reconnect to see if you’re ready to proceed with the setup.\n",
      "\n",
      "-----------------------------------\n",
      "\n"
     ]
    }
   ],
   "source": [
    "for k,v in transcripts.items():\n",
    "    res = compiled(sales_call_transcript = v)\n",
    "    print(f\"{k}: \")\n",
    "    print(res.hidden_action_item)\n",
    "    print(\"\\n-----------------------------------\\n\")"
   ]
  },
  {
   "cell_type": "code",
   "execution_count": 13,
   "metadata": {},
   "outputs": [
    {
     "name": "stdout",
     "output_type": "stream",
     "text": [
      "Average Metric: 16.0 / 4  (400.0): 100%|██████████| 4/4 [00:48<00:00, 12.12s/it]\n",
      "Compiled score: 400.0\n"
     ]
    }
   ],
   "source": [
    "from dspy.evaluate import Evaluate\n",
    "\n",
    "evaluate = Evaluate(devset=labeled_dataset, num_threads=1, display_progress=True, display_table=False)\n",
    "\n",
    "\n",
    "compiled_score = evaluate(compiled, metric=metric)\n",
    "print(f\"Compiled score: {compiled_score}\")"
   ]
  },
  {
   "cell_type": "code",
   "execution_count": null,
   "metadata": {},
   "outputs": [],
   "source": []
  },
  {
   "cell_type": "markdown",
   "metadata": {},
   "source": [
    "## Different optimization metric"
   ]
  },
  {
   "cell_type": "code",
   "execution_count": 14,
   "metadata": {},
   "outputs": [
    {
     "name": "stdout",
     "output_type": "stream",
     "text": [
      "4tools: \n",
      "Priority: “Test the workflow into assigning it to writers, getting pieces written, and pushing it directly into our sandbox site\" (see 41:04)\n",
      "Event: “Taylor's trial extension” (see 41:53)\n",
      "Date: <next two weeks> (see 43:18)\n",
      "Message: Hi Marc, last we spoke, it was important to test the workflow into assigning it to writers, getting pieces written, and pushing it directly into your sandbox site. I have extended Taylor's trial for another week. Wanted to reconnect to see if you’re ready to make a decision to proceed or not.\n",
      "\n",
      "-----------------------------------\n",
      "\n",
      "baselifesciences: \n",
      "Priority: “Schedule a workshop to focus on a feature that the team might want to use but haven't had time to dive into\" (see 8:39)\n",
      "Event: “Team's availability for a workshop” (see 9:26)\n",
      "Date: <September or October> (see 9:26)\n",
      "Message: Hi Jonathan, last we spoke, it was important to schedule a workshop to focus on a feature that the team might want to use but haven't had time to dive into. Wanted to reconnect to see if you’re ready to proceed with scheduling this workshop in September or October.\n",
      "\n",
      "-----------------------------------\n",
      "\n",
      "bookstar: \n",
      "Priority: “Discuss social selling and SEO improvements with Derek and Annie\" (see 32:45 and 33:06)\n",
      "Event: “Follow-up meeting with Derek and Annie” (see 38:26)\n",
      "Date: <first week of June> (see 38:26)\n",
      "Message: Hi Kate, last we spoke, it was important to discuss social selling and SEO improvements with Derek and Annie. I have scheduled a follow-up meeting for the first week of June. Wanted to reconnect to see if you’re ready to proceed.\n",
      "\n",
      "-----------------------------------\n",
      "\n",
      "calmsea: \n",
      "Priority: “Discuss internally about using Acme's platform and freelance writers\" (see 27:37)\n",
      "Event: “Internal discussion about content strategy” (see 27:37)\n",
      "Date: <end of next week> (see 28:43)\n",
      "Message: Hi Andi and Jodi, last we spoke, it was important to discuss internally about using Acme's platform and freelance writers. Wanted to reconnect to see if you’re ready to proceed by the end of next week.\n",
      "\n",
      "-----------------------------------\n",
      "\n",
      "deel: \n",
      "Priority: “Automate social media amplification and streamline content distribution\" (see 4:18 and 6:49)\n",
      "Event: “Conversation with CEO about budget and approval” (see 44:23)\n",
      "Date: <next week> (see 44:23)\n",
      "Message: Hi Guillermo, last we spoke, it was important to automate social media amplification and streamline content distribution. I know you have a conversation with your CEO about budget and approval next week. Wanted to reconnect to see if you’re ready to proceed with Acme.\n",
      "\n",
      "-----------------------------------\n",
      "\n",
      "explorer: \n",
      "Priority: “Test Starlink platform with current setup and prepare for a follow-up deep dive meeting\" (see 45:45)\n",
      "Event: “Follow-up deep dive meeting with lead” (see 45:45)\n",
      "Date: <two weeks from now> (see 45:45)\n",
      "Message: Hi Lyle, last we spoke, it was important to test the Starlink platform with your current setup and prepare for a follow-up deep dive meeting with your lead. Wanted to reconnect to see if you’re ready to proceed.\n",
      "\n",
      "-----------------------------------\n",
      "\n",
      "keeper: \n",
      "Priority: “Ensure Webflow performance optimization and migration from Ghost\" (see 1:21 and 4:14)\n",
      "Event: “Technical team review and decision-making” (see 8:17 and 27:00)\n",
      "Date: <next two to three weeks> (see 8:17)\n",
      "Message: Hi Ryan, last we spoke, it was important to ensure Webflow performance optimization and migration from Ghost. You mentioned needing your technical team to review and make a decision within the next two to three weeks. Wanted to reconnect to see if you’re ready to proceed.\n",
      "\n",
      "-----------------------------------\n",
      "\n",
      "lasebane: \n",
      "Priority: “Explore AI tools for content creation and sentiment analysis\" (see 19:27 and 26:40)\n",
      "Event: “Hiring in-house SEO specialist” (see 17:43)\n",
      "Date: <next three to four months> (see 17:43)\n",
      "Message: Hi Saad, last we spoke, you were exploring AI tools for content creation and sentiment analysis. You mentioned you’d be hiring an in-house SEO specialist in the next three to four months. Wanted to reconnect to see if you’re ready to proceed with Acme.\n",
      "\n",
      "-----------------------------------\n",
      "\n",
      "mode: \n",
      "Priority: “Review Acme info sent by Ryan, prepare relevant call recordings for next demo\" (see 18:57)\n",
      "Event: “Schedule follow-up demo with Swati for first week of November, same time” (see 19:43)\n",
      "Date: <first week of November> (see 19:43)\n",
      "Message: Hi Swati, hope your conference in Copenhagen went well. When we last spoke, you were interested in reviewing the Acme info sent by Ryan and preparing relevant call recordings for our next demo. Wanted to reconnect to see if you’re ready to proceed with scheduling the follow-up demo for the first week of November.\n",
      "\n",
      "-----------------------------------\n",
      "\n",
      "ss: \n",
      "Priority: “Schedule a demo for content strategy and amplification\" (see 20:07 and 21:01)\n",
      "Event: “Content strategy meeting completion” (see 19:46)\n",
      "Date: <November 21st>\n",
      "Message: Hi Alex, last we spoke, it was important to schedule a demo for content strategy and amplification after your content strategy meeting. I have scheduled a demo for November 21st at 3 PM Eastern. Please ensure your CEO and content marketing manager are available. Looking forward to it!\n",
      "\n",
      "-----------------------------------\n",
      "\n",
      "stackcentral: \n",
      "Priority: “Sign up for a free trial and evaluate the tool for guest post quality and SEO optimization\" (see 29:47 and 32:16)\n",
      "Event: “Follow-up call to discuss trial experience” (see 35:49)\n",
      "Date: <6th of January> (see 36:25)\n",
      "Message: Hi Monika and Maria, hope you had a great holiday season. When we last spoke, you were going to sign up for a free trial and evaluate the tool for guest post quality and SEO optimization. Wanted to reconnect to see if you’re ready to discuss your trial experience on the 6th of January.\n",
      "\n",
      "-----------------------------------\n",
      "\n",
      "xp: \n",
      "Priority: “Set up account and ensure permissions for cloud and VCS integrations before POC kickoff call\" (see 2:26 and 3:11)\n",
      "Event: “POC kickoff call next week” (see 0:17 and 3:11)\n",
      "Date: <next week> (see 3:11)\n",
      "Message: Hi Mike, last we spoke, it was important to set up your account and ensure permissions for cloud and VCS integrations before the POC kickoff call next week. Wanted to reconnect to see if you’re ready to proceed.\n",
      "\n",
      "-----------------------------------\n",
      "\n"
     ]
    }
   ],
   "source": [
    "for k,v in transcripts.items():\n",
    "    res = compiled(sales_call_transcript = v)\n",
    "    print(f\"{k}: \")\n",
    "    print(res.hidden_action_item)\n",
    "    print(\"\\n-----------------------------------\\n\")"
   ]
  },
  {
   "cell_type": "code",
   "execution_count": null,
   "metadata": {},
   "outputs": [],
   "source": []
  },
  {
   "cell_type": "markdown",
   "metadata": {},
   "source": [
    "## MIPRO"
   ]
  },
  {
   "cell_type": "code",
   "execution_count": 47,
   "metadata": {},
   "outputs": [],
   "source": [
    "\n",
    "\n",
    "class GenerateInstruction(dspy.Signature):\n",
    "    \"\"\"You are an instruction optimizer for large language models. I will give you a ``signature`` of fields (sales_call_transcript and hidden_action_item) in English. Your task is to propose an instruction that will lead a good language model to perform the task well. Don't be afraid to be creative.\"\"\"\n",
    "\n",
    "    basic_instruction = dspy.InputField(desc=\"The initial instructions before optimization\")\n",
    "    proposed_instruction = dspy.OutputField(desc=\"The improved instructions for the language model\")\n",
    "    proposed_prefix_for_output_field = dspy.OutputField(\n",
    "        desc=\"The string at the end of the prompt, which will help the model start solving the task\",\n",
    "    )\n",
    "\n",
    "## this is not working right now\n",
    "# def mipro_metric(gt, pred, trace=None):\n",
    "#     alignment_criterion = \"How accurately does system predict the most important action items in the sales call transcript?\"\n",
    "#     return dspy.TypedPredictor(GenerateInstruction)(criterion=alignment_criterion,\n",
    "#         basic_instruction=gt.sales_call_transcript,\n",
    "#         proposed_instruction=gt.hidden_action_item,\n",
    "#         predicted_answer=pred.hidden_action_item\n",
    "#     )"
   ]
  },
  {
   "cell_type": "code",
   "execution_count": null,
   "metadata": {},
   "outputs": [],
   "source": [
    "from dspy.teleprompt import MIPROv2\n",
    "\n",
    "teleprompter = MIPROv2(\n",
    "    metric=metric,\n",
    "    num_candidates=7,\n",
    "    init_temperature=0.5,\n",
    "    verbose=True,\n",
    "    num_threads=4,\n",
    "    task_model=lm,\n",
    "    prompt_model=lm,\n",
    ")\n",
    "\n",
    "print(f\"Optimizing program with MIPRO...\")\n",
    "optimized_program = teleprompter.compile(\n",
    "    action_item.deepcopy(),\n",
    "    trainset=labeled_dataset,\n",
    "    max_bootstrapped_demos=3,\n",
    "    max_labeled_demos=4,\n",
    "    num_trials=5,\n",
    "    minibatch_size=2,\n",
    "    minibatch_full_eval_steps=2,\n",
    "    minibatch=True, \n",
    "    requires_permission_to_run=False,\n",
    ")"
   ]
  },
  {
   "cell_type": "code",
   "execution_count": 21,
   "metadata": {},
   "outputs": [],
   "source": [
    "# optimized_program.save(r'dspy_files\\mipro.json')"
   ]
  },
  {
   "cell_type": "markdown",
   "metadata": {},
   "source": [
    "### MIPRO result first iteration"
   ]
  },
  {
   "cell_type": "code",
   "execution_count": 27,
   "metadata": {},
   "outputs": [
    {
     "name": "stdout",
     "output_type": "stream",
     "text": [
      "4tools: \n",
      "Priority: “Test the workflow into assigning it to writers, getting pieces written, and pushing it directly into our sandbox site\" (see 41:04)\n",
      "Event: “Taylor's trial extension” (see 41:53)\n",
      "Date: <next two weeks> (see 43:18)\n",
      "Message: Hi Marc, last we spoke, it was important to test the workflow into assigning it to writers, getting pieces written, and pushing it directly into your sandbox site. I have extended Taylor's trial for another week. Wanted to reconnect to see if you’re ready to make a decision to proceed or not.\n",
      "\n",
      "-----------------------------------\n",
      "\n",
      "baselifesciences: \n",
      "Priority: “Schedule a workshop to focus on a feature that the team might want to use but haven't had time to dive into\" (see 8:39)\n",
      "Event: “Team's availability in September or October” (see 8:39)\n",
      "Date: <September or October> (see 8:39)\n",
      "Message: Hi Jonathan, last we spoke, it was important to schedule a workshop to focus on a feature that the team might want to use but haven't had time to dive into. Wanted to reconnect to see if you’re ready to proceed with scheduling the workshop in September or October.\n",
      "\n",
      "-----------------------------------\n",
      "\n",
      "bookstar: \n",
      "Priority: “Improve LinkedIn social selling and SEO strategy\" (see 2:03 and 6:01)\n",
      "Event: “Follow-up call with Derek and Annie” (see 31:24)\n",
      "Date: <first week of June> (see 38:26)\n",
      "Message: Hi Kate, last we spoke, it was important to improve LinkedIn social selling and SEO strategy. Wanted to reconnect to see if you’re ready to proceed with the next steps.\n",
      "\n",
      "-----------------------------------\n",
      "\n",
      "calmsea: \n",
      "Priority: “Discuss internally about using Acme's platform and freelance writers\" (see 27:37)\n",
      "Event: “Follow-up email from Homer” (see 28:54)\n",
      "Date: <end of next week> (see 28:43)\n",
      "Message: Hi Andi and Jodi, last we spoke, you were considering using Acme's platform with your freelance writers. Wanted to reconnect to see if you’re ready to proceed or need any further assistance.\n",
      "\n",
      "-----------------------------------\n",
      "\n",
      "deel: \n",
      "Priority: “Automate social media amplification and streamline content distribution\" (see 5:09 and 6:49)\n",
      "Event: “Follow-up conversation with CEO” (see 44:23)\n",
      "Date: <next week> (see 44:23)\n",
      "Message: Hi Guillermo, last we spoke, it was important to automate social media amplification and streamline content distribution. Wanted to reconnect to see if you’re ready to proceed after your conversation with your CEO next week.\n",
      "\n",
      "-----------------------------------\n",
      "\n",
      "explorer: \n",
      "Priority: “Test Starlink platform with current deployments and gather feedback from the software lead\" (see 45:45)\n",
      "Event: “Follow-up meeting with software lead” (see 45:45)\n",
      "Date: <next two weeks> (see 45:45)\n",
      "Message: Hi Lyle, last we spoke, it was important to test the Starlink platform with your current deployments and gather feedback from your software lead. Wanted to reconnect to see if you’re ready to proceed with the follow-up meeting.\n",
      "\n",
      "-----------------------------------\n",
      "\n",
      "keeper: \n",
      "Priority: “Ensure Webflow performance optimization and migration from Ghost\" (see 4:14 and 5:26)\n",
      "Event: “Follow-up demo with Ryan, Amy, and Danielle” (see 28:27)\n",
      "Date: <March 28th, morning Pacific> (see 28:59)\n",
      "Message: Hi Ryan, last we spoke, it was important to ensure Webflow performance optimization and migration from Ghost. Wanted to reconnect to see if you’re ready for the follow-up demo with Amy and Danielle on March 28th.\n",
      "\n",
      "-----------------------------------\n",
      "\n",
      "lasebane: \n",
      "Priority: “Explore sentiment analysis and SEO tools for cross-selling and content optimization\" (see 6:41 and 16:47)\n",
      "Event: “Follow-up call in a couple of months” (see 36:00)\n",
      "Date: <two months from now> (see 36:00)\n",
      "Message: Hi Saad, last we spoke, it was important to explore sentiment analysis and SEO tools for cross-selling and content optimization. Wanted to reconnect to see if you’re ready to proceed with the next steps.\n",
      "\n",
      "-----------------------------------\n",
      "\n",
      "mode: \n",
      "Priority: “Increase thought leadership as part of ABM execution\" (see 22:42)\n",
      "Event: “User conference in October” (see 26:00)\n",
      "Date: <first week of November> (see 26:00)\n",
      "Message: Hi Swati, hope your conference in Copenhagen went well. When we last spoke, you were wrapping up the ABM account research phase. You mentioned you’d be able to enter the execution phase. Wanted to reconnect to see if you’re ready to improve Jan’s LinkedIn presence to reach key decision makers in November.\n",
      "\n",
      "-----------------------------------\n",
      "\n",
      "ss: \n",
      "Priority: “Schedule a demo for content strategy and amplification\" (see 20:07 and 21:01)\n",
      "Event: “Content strategy meeting completion” (see 24:45)\n",
      "Date: <November 21st> (see 21:11)\n",
      "Message: Hi Alex, hope your content strategy meeting went well. When we last spoke, you were planning to complete your content strategy overhaul. Wanted to reconnect to see if you’re ready to schedule a demo for content strategy and amplification on November 21st.\n",
      "\n",
      "-----------------------------------\n",
      "\n",
      "stackcentral: \n",
      "Priority: “Sign up for a free trial and evaluate the tool for guest post quality and SEO optimization\" (see 29:47 and 32:16)\n",
      "Event: “Follow-up call to discuss trial experience” (see 35:49)\n",
      "Date: <6th of January> (see 36:39)\n",
      "Message: Hi Monika and Maria, hope you had a great Christmas and New Year. When we last spoke, you were going to sign up for a free trial and evaluate the tool for guest post quality and SEO optimization. Wanted to reconnect to see if you’re ready to discuss your trial experience on the 6th of January.\n",
      "\n",
      "-----------------------------------\n",
      "\n",
      "xp: \n",
      "Priority: “Set up cloud and VCS integrations with the right permissions before POC kickoff call\" (see 2:15 and 2:55)\n",
      "Event: “POC kickoff call next week” (see 0:17 and 3:18)\n",
      "Date: <next week> (see 3:18)\n",
      "Message: Hi Mike, last we spoke, it was important to set up cloud and VCS integrations with the right permissions before the POC kickoff call. Wanted to reconnect to see if you’re ready to proceed with the setup.\n",
      "\n",
      "-----------------------------------\n",
      "\n"
     ]
    }
   ],
   "source": [
    "for k,v in transcripts.items():\n",
    "    res = optimized_program(sales_call_transcript = v)\n",
    "    print(f\"{k}: \")\n",
    "    print(res.hidden_action_item)\n",
    "    print(\"\\n-----------------------------------\\n\")"
   ]
  },
  {
   "cell_type": "code",
   "execution_count": null,
   "metadata": {},
   "outputs": [],
   "source": []
  },
  {
   "cell_type": "code",
   "execution_count": null,
   "metadata": {},
   "outputs": [],
   "source": []
  }
 ],
 "metadata": {
  "kernelspec": {
   "display_name": ".venv",
   "language": "python",
   "name": "python3"
  },
  "language_info": {
   "codemirror_mode": {
    "name": "ipython",
    "version": 3
   },
   "file_extension": ".py",
   "mimetype": "text/x-python",
   "name": "python",
   "nbconvert_exporter": "python",
   "pygments_lexer": "ipython3",
   "version": "3.11.5"
  }
 },
 "nbformat": 4,
 "nbformat_minor": 2
}
