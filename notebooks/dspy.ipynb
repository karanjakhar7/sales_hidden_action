{
 "cells": [
  {
   "cell_type": "code",
   "execution_count": 28,
   "metadata": {},
   "outputs": [
    {
     "data": {
      "text/plain": [
       "dict_keys(['4tools', 'baselifesciences', 'bookstar', 'calmsea', 'deel', 'explorer', 'keeper', 'lasebane', 'mode', 'ss', 'stackcentral', 'xp'])"
      ]
     },
     "execution_count": 28,
     "metadata": {},
     "output_type": "execute_result"
    }
   ],
   "source": [
    "import os\n",
    "transcript_dir = r\"..\\transcripts\"\n",
    "\n",
    "transcripts = {}\n",
    "for filename in os.listdir(transcript_dir):\n",
    "    with open(os.path.join(transcript_dir, filename), 'r') as f:\n",
    "        transcripts[filename.split(\".\")[0]] = f.read()\n",
    "\n",
    "transcripts.keys()"
   ]
  },
  {
   "cell_type": "code",
   "execution_count": 2,
   "metadata": {},
   "outputs": [],
   "source": [
    "labels = {\n",
    "    \"4tools\": \"\"\"Priority: “Understand content workflow with multiple contractors so you can increase your engagement size from 10k to 20k\" (see 3:07 and 8:41)\n",
    "Event: “Trial expires in 8 days” (see 3:07 and 8:41)\n",
    "Date: <2 weeks from now> (see 43:18)\n",
    "Message: Hi Ryan, last we spoke, it was important to understand your content workflow across clients so you can scale up your engagement size to 20k. Your trial has ended. Wanted to reconnect to see if you’re ready to make a decision to proceed or not.\"\"\",\n",
    "    \n",
    "    \"bookstar\": \"\"\"Priority: “Traditional outreach is failing and needs to invest in social selling but marketing is stretched thin\" (see 2:40)\n",
    "Event: “Kate to talk to her boss” (see 31:24)\n",
    "Date: <next June> (see 38:26)\n",
    "Message: Hi Kate, last we spoke, it was important to understand your content workflow across clients so you can scale up your engagement size to 20k. Your trial expires tomorrow. Wanted to reconnect to see if you’re ready to make a decision to proceed or not.\"\"\",\n",
    "    \n",
    "    \"xp\": \"\"\"Priority: “Get rid of Terraform Cloud in Q3 because support is not great\" (see 3:42)\n",
    "Event: “TCF contracts expires” (see 31:24)\n",
    "Date: <next December> (see 5:03)\n",
    "Message: Hi Mike, last we spoke, it was important to move off Terraform Cloud in Q3. I know your contract ends in December. Wanted to reconnect to see if we’re on track to replace TFC.\"\"\",\n",
    "    \n",
    "    \"mode\": \"\"\"Priority: “Increase thought leadership as part of ABM execution\" (see 22:42)\n",
    "Event: “ABM research is complete” (see 9:53)\n",
    "Date: <next December> (see 5:03)\n",
    "Message: Hi Swati, hope your conference in Copenhagen went well. When we last spoke, you were wrapping up the ABM account research phase. You mentioned you’d be able to enter the execution phase. Wanted to reconnect to see if you’re ready to improve Jan’s LinkedIn presence to reach key decision makers in November.\"\"\",\n",
    "\n",
    "    }"
   ]
  },
  {
   "cell_type": "code",
   "execution_count": 3,
   "metadata": {},
   "outputs": [
    {
     "data": {
      "text/plain": [
       "True"
      ]
     },
     "execution_count": 3,
     "metadata": {},
     "output_type": "execute_result"
    }
   ],
   "source": [
    "from dotenv import load_dotenv\n",
    "\n",
    "load_dotenv(\"../.env\")"
   ]
  },
  {
   "cell_type": "code",
   "execution_count": 4,
   "metadata": {},
   "outputs": [
    {
     "name": "stderr",
     "output_type": "stream",
     "text": [
      "k:\\kj\\Projects\\sales_actions\\.venv\\Lib\\site-packages\\tqdm\\auto.py:21: TqdmWarning: IProgress not found. Please update jupyter and ipywidgets. See https://ipywidgets.readthedocs.io/en/stable/user_install.html\n",
      "  from .autonotebook import tqdm as notebook_tqdm\n"
     ]
    },
    {
     "name": "stdout",
     "output_type": "stream",
     "text": [
      "k:\\kj\\Projects\\sales_actions\\notebooks\\cache\\compiler\n"
     ]
    }
   ],
   "source": [
    "import os\n",
    "import sys\n",
    "\n",
    "os.environ['DSP_CACHEBOOL'] = 'false'\n",
    "os.environ[\"DSP_NOTEBOOK_CACHEDIR\"] = os.path.join(os.getcwd(), 'cache')\n",
    "\n",
    "import dspy\n",
    "\n",
    "temperature = 0.0\n",
    "\n",
    "lm = dspy.LM(\n",
    "    model=\"azure/gpt-4o\",\n",
    "    temperature=temperature,\n",
    "    api_base=os.environ[\"AZURE_API_BASE\"],\n",
    "    api_key=os.environ[\"AZURE_API_KEY\"],\n",
    "    api_version=os.environ[\"AZURE_API_VERSION\"],\n",
    "    # cache=False\n",
    ")\n",
    "\n",
    "\n",
    "dspy.configure(lm=lm)"
   ]
  },
  {
   "cell_type": "markdown",
   "metadata": {},
   "source": [
    "## No specific prompt"
   ]
  },
  {
   "cell_type": "code",
   "execution_count": 6,
   "metadata": {},
   "outputs": [
    {
     "name": "stdout",
     "output_type": "stream",
     "text": [
      "Mike Liv needs to sign up for an account and set up the necessary cloud and VCS integrations before the POC kickoff call next week. Additionally, he should check with his procurement team about the NDA requirements and share the necessary documents in the Slack channel.\n"
     ]
    }
   ],
   "source": [
    "action_item = dspy.Predict('sales_call_transcript -> hidden_action_item',)\n",
    "\n",
    "response = action_item(sales_call_transcript = transcripts['xp'])\n",
    "print(response.hidden_action_item)"
   ]
  },
  {
   "cell_type": "code",
   "execution_count": null,
   "metadata": {},
   "outputs": [],
   "source": []
  },
  {
   "cell_type": "markdown",
   "metadata": {},
   "source": [
    "## Custom prompt signature"
   ]
  },
  {
   "cell_type": "code",
   "execution_count": 5,
   "metadata": {},
   "outputs": [],
   "source": [
    "class SalesActionItem(dspy.Signature):\n",
    "    \"\"\"Find hidden action items in the given sales call transcript. Identify things that sales rep has to do in future. Only provide the action items for tasks that are to be done atleast 2 weeks from the day of the call.\"\"\"\n",
    "\n",
    "    sales_call_transcript = dspy.InputField(desc=\"Sales call transcript with a potential customer.\")\n",
    "    hidden_action_item = dspy.OutputField()\n",
    "\n",
    "\n",
    "\n",
    "action_item = dspy.Predict(SalesActionItem, n=1)"
   ]
  },
  {
   "cell_type": "code",
   "execution_count": 8,
   "metadata": {},
   "outputs": [
    {
     "name": "stdout",
     "output_type": "stream",
     "text": [
      "Homer needs to send Taylor the WordPress setup instructions and extend her account trial by another week.\n"
     ]
    }
   ],
   "source": [
    "response = action_item(sales_call_transcript = transcripts['4tools'], config=dict(temperature=0.0))\n",
    "print(response.hidden_action_item)"
   ]
  },
  {
   "cell_type": "markdown",
   "metadata": {},
   "source": [
    "## dataset, metric, tuning"
   ]
  },
  {
   "cell_type": "code",
   "execution_count": null,
   "metadata": {},
   "outputs": [],
   "source": [
    "labeled_dataset = []\n",
    "\n",
    "for k,v in labels.items():\n",
    "    labeled_dataset.append(dspy.Example(sales_call_transcript = transcripts[k], hidden_action_item = v).with_inputs(\"sales_call_transcript\"))\n",
    "\n",
    "# labeled_dataset"
   ]
  },
  {
   "cell_type": "code",
   "execution_count": 10,
   "metadata": {},
   "outputs": [],
   "source": [
    "class Assess(dspy.Signature):\n",
    "    \"\"\"Evaluate the quality of a system's answer to a question according to a given criterion.\"\"\"\n",
    "    \n",
    "    criterion: str = dspy.InputField(desc=\"The evaluation criterion.\")\n",
    "    sales_call_transcript: str = dspy.InputField(desc=\"The sales call transcript that system had to analyze.\")\n",
    "    ground_truth_answer: str = dspy.InputField(desc=\"An expert written Ground Truth Answer for the sales call transcript.\")\n",
    "    predicted_answer: str = dspy.InputField(desc=\"The system generated action item for given transcript.\")\n",
    "    rating: float = dspy.OutputField(desc=\"A float rating between 1 and 5\")\n",
    "\n",
    "\n",
    "def metric(gt, pred, trace=None):\n",
    "        alignment_criterion = \"How accurately does system predict the most important action items in the sales call transcript?\"\n",
    "        return dspy.TypedPredictor(Assess)(criterion=alignment_criterion,\n",
    "            sales_call_transcript=gt.sales_call_transcript,\n",
    "            ground_truth_answer=gt.hidden_action_item,\n",
    "            predicted_answer=pred.hidden_action_item\n",
    "        ).rating"
   ]
  },
  {
   "cell_type": "code",
   "execution_count": 11,
   "metadata": {},
   "outputs": [
    {
     "name": "stderr",
     "output_type": "stream",
     "text": [
      "\n",
      "  0%|          | 0/4 [00:00<?, ?it/s]\n",
      " 25%|██▌       | 1/4 [00:06<00:20,  6.84s/it]\n"
     ]
    },
    {
     "name": "stdout",
     "output_type": "stream",
     "text": [
      "Bootstrapped 1 full traces after 2 examples in round 0.\n"
     ]
    },
    {
     "name": "stderr",
     "output_type": "stream",
     "text": [
      "\n",
      "  0%|          | 0/4 [00:00<?, ?it/s]\n",
      " 50%|█████     | 2/4 [00:07<00:07,  3.88s/it]\n"
     ]
    },
    {
     "name": "stdout",
     "output_type": "stream",
     "text": [
      "Bootstrapped 2 full traces after 3 examples in round 0.\n"
     ]
    },
    {
     "name": "stderr",
     "output_type": "stream",
     "text": [
      "\n",
      "  0%|          | 0/4 [00:00<?, ?it/s]\n",
      " 75%|███████▌  | 3/4 [00:09<00:03,  3.23s/it]\n"
     ]
    },
    {
     "name": "stdout",
     "output_type": "stream",
     "text": [
      "Bootstrapped 3 full traces after 4 examples in round 0.\n"
     ]
    }
   ],
   "source": [
    "from dspy.teleprompt import BootstrapFewShot\n",
    "\n",
    "for i in range(1, 4, 1):\n",
    "    teleprompter = BootstrapFewShot(metric=metric, max_bootstrapped_demos=i, max_rounds=1)\n",
    "    compiled = teleprompter.compile(action_item, trainset=labeled_dataset)\n",
    "    # compiled_score = evaluate(compiled, metric=MetricWrapper)\n",
    "    # print(f\"\\n\\033[91mCompiled Score at Demos = {i}: {compiled_RAG_score}\\n\")"
   ]
  },
  {
   "cell_type": "code",
   "execution_count": 12,
   "metadata": {},
   "outputs": [],
   "source": [
    "# compiled.save(r'dspy_files\\bsfs_1.json')"
   ]
  },
  {
   "cell_type": "code",
   "execution_count": 8,
   "metadata": {},
   "outputs": [],
   "source": [
    "# compiled = action_item.deepcopy()\n",
    "# compiled.load(path=r'dspy_files\\bsfs.json')"
   ]
  },
  {
   "cell_type": "markdown",
   "metadata": {},
   "source": [
    "## Initial test results"
   ]
  },
  {
   "cell_type": "code",
   "execution_count": 16,
   "metadata": {},
   "outputs": [
    {
     "name": "stdout",
     "output_type": "stream",
     "text": [
      "4tools: \n",
      "Priority: “Test the workflow into assigning it to writers, getting pieces written, and pushing it directly into our sandbox site\" (see 41:04)\n",
      "Event: “Taylor's trial extension” (see 41:53)\n",
      "Date: <next two weeks> (see 43:18)\n",
      "Message: Hi Marc, last we spoke, it was important to test the workflow into assigning it to writers, getting pieces written, and pushing it directly into your sandbox site. I have extended Taylor's trial for another week. Wanted to reconnect to see if you’re ready to make a decision to proceed or not.\n",
      "\n",
      "-----------------------------------\n",
      "\n",
      "baselifesciences: \n",
      "Priority: “Schedule a workshop to focus on a feature that the team might want to use but haven't had time to dive into\" (see 8:39)\n",
      "Event: “Team's availability in September or October” (see 8:39)\n",
      "Date: <September or October> (see 8:39)\n",
      "Message: Hi Jonathan, last we spoke, it was important to schedule a workshop to focus on a feature that the team might want to use but haven't had time to dive into. Wanted to reconnect to see if you’re ready to proceed with scheduling the workshop in September or October.\n",
      "\n",
      "-----------------------------------\n",
      "\n",
      "bookstar: \n",
      "Priority: “Discuss social selling and SEO improvements\" (see 2:03 and 6:01)\n",
      "Event: “Follow-up call with Derek and Annie” (see 31:24)\n",
      "Date: <first week of June> (see 38:26)\n",
      "Message: Hi Kate, last we spoke, it was important to discuss social selling and SEO improvements. Wanted to reconnect to see if you’re ready to proceed with the next steps.\n",
      "\n",
      "-----------------------------------\n",
      "\n",
      "calmsea: \n",
      "Priority: “Discuss internally about using Acme's platform and freelance writers\" (see 27:37)\n",
      "Event: “Internal discussion completion” (see 28:39)\n",
      "Date: <end of next week> (see 28:43)\n",
      "Message: Hi Andi and Jodi, last we spoke, you were considering using Acme's platform with your freelance writers. Wanted to reconnect to see if you’re ready to proceed with the next steps.\n",
      "\n",
      "-----------------------------------\n",
      "\n",
      "deel: \n",
      "Priority: “Automate social media amplification and increase content distribution efficiency\" (see 4:18 and 6:49)\n",
      "Event: “Follow-up call with CEO” (see 44:23)\n",
      "Date: <next week> (see 44:23)\n",
      "Message: Hi Guillermo, last we spoke, it was important to automate social media amplification and increase content distribution efficiency. Wanted to reconnect to see if you’re ready to proceed after your conversation with your CEO next week.\n",
      "\n",
      "-----------------------------------\n",
      "\n",
      "explorer: \n",
      "Priority: “Test Starlink platform with current deployments and provide feedback\" (see 45:45)\n",
      "Event: “Follow-up meeting with lead for deep dive into specific topics” (see 45:24)\n",
      "Date: <next two weeks> (see 45:45)\n",
      "Message: Hi Lyle, last we spoke, it was important to test the Starlink platform with your current deployments and provide feedback. Wanted to reconnect to see if you’re ready to proceed with the follow-up meeting for a deep dive into specific topics.\n",
      "\n",
      "-----------------------------------\n",
      "\n",
      "keeper: \n",
      "Priority: “Ensure Webflow performance optimization and migration from Ghost\" (see 4:14 and 5:13)\n",
      "Event: “Follow-up demo with Ryan, Amy, and Danielle” (see 28:27)\n",
      "Date: <March 28th, morning Pacific> (see 28:59)\n",
      "Message: Hi Ryan, last we spoke, it was important to ensure Webflow performance optimization and migration from Ghost. Wanted to reconnect to see if you’re ready for the follow-up demo with Amy and Danielle on March 28th.\n",
      "\n",
      "-----------------------------------\n",
      "\n",
      "lasebane: \n",
      "Priority: “Explore sentiment analysis and SEO tools for cross-selling and content optimization\" (see 6:41 and 16:47)\n",
      "Event: “Follow-up call in a couple of months” (see 36:00)\n",
      "Date: <two months from now> (see 36:00)\n",
      "Message: Hi Saad, last we spoke, it was important to explore sentiment analysis and SEO tools for cross-selling and content optimization. Wanted to reconnect to see if you’re ready to proceed with the next steps.\n",
      "\n",
      "-----------------------------------\n",
      "\n",
      "mode: \n",
      "Priority: “Review Acme info sent by Ryan, prepare relevant call recordings for next demo\" (see 18:13)\n",
      "Event: “Follow-up demo with Swati” (see 19:43)\n",
      "Date: <first week of November> (see 19:43)\n",
      "Message: Hi Swati, hope your conference in Copenhagen went well. When we last spoke, you were interested in reviewing the Acme info sent by Ryan and preparing relevant call recordings for our next demo. Wanted to reconnect to see if you’re ready to proceed with the follow-up demo in November.\n",
      "\n",
      "-----------------------------------\n",
      "\n",
      "ss: \n",
      "Priority: “Schedule a demo for Letterdrop with Alex, content manager, and CEO\" (see 20:07)\n",
      "Event: “Content strategy overhaul completion” (see 19:46)\n",
      "Date: <November 21st, 3 PM Eastern> (see 22:36)\n",
      "Message: Hi Alex, last we spoke, it was important to schedule a demo for Letterdrop with you, your content manager, and your CEO. Wanted to reconnect to see if you’re ready to proceed with the demo on November 21st at 3 PM Eastern.\n",
      "\n",
      "-----------------------------------\n",
      "\n",
      "stackcentral: \n",
      "Priority: “Sign up for a free trial and evaluate the tool for guest post quality and SEO optimization\" (see 30:23 and 32:16)\n",
      "Event: “Follow-up call to discuss trial experience” (see 35:49)\n",
      "Date: <6th of January> (see 36:25)\n",
      "Message: Hi Monika and Maria, last we spoke, it was important to sign up for a free trial and evaluate the tool for guest post quality and SEO optimization. Wanted to reconnect to see if you’re ready to discuss your trial experience on January 6th.\n",
      "\n",
      "-----------------------------------\n",
      "\n",
      "xp: \n",
      "Priority: “Set up cloud and VCS integrations with the right permissions before POC kickoff call\" (see 2:15 and 2:55)\n",
      "Event: “POC kickoff call next week” (see 0:17 and 3:18)\n",
      "Date: <next week> (see 3:18)\n",
      "Message: Hi Mike, last we spoke, it was important to set up cloud and VCS integrations with the right permissions before the POC kickoff call. Wanted to reconnect to see if you’re ready to proceed with the setup.\n",
      "\n",
      "-----------------------------------\n",
      "\n"
     ]
    }
   ],
   "source": [
    "for k,v in transcripts.items():\n",
    "    res = compiled(sales_call_transcript = v)\n",
    "    print(f\"{k}: \")\n",
    "    print(res.hidden_action_item)\n",
    "    print(\"\\n-----------------------------------\\n\")"
   ]
  },
  {
   "cell_type": "code",
   "execution_count": 13,
   "metadata": {},
   "outputs": [
    {
     "name": "stdout",
     "output_type": "stream",
     "text": [
      "Average Metric: 16.0 / 4  (400.0): 100%|██████████| 4/4 [00:48<00:00, 12.12s/it]\n",
      "Compiled score: 400.0\n"
     ]
    }
   ],
   "source": [
    "from dspy.evaluate import Evaluate\n",
    "\n",
    "evaluate = Evaluate(devset=labeled_dataset, num_threads=1, display_progress=True, display_table=False)\n",
    "\n",
    "\n",
    "compiled_score = evaluate(compiled, metric=metric)\n",
    "print(f\"Compiled score: {compiled_score}\")"
   ]
  },
  {
   "cell_type": "code",
   "execution_count": null,
   "metadata": {},
   "outputs": [],
   "source": []
  },
  {
   "cell_type": "markdown",
   "metadata": {},
   "source": [
    "## Different optimization metric"
   ]
  },
  {
   "cell_type": "code",
   "execution_count": 14,
   "metadata": {},
   "outputs": [
    {
     "name": "stdout",
     "output_type": "stream",
     "text": [
      "4tools: \n",
      "Priority: “Test the workflow into assigning it to writers, getting pieces written, and pushing it directly into our sandbox site\" (see 41:04)\n",
      "Event: “Taylor's trial extension” (see 41:53)\n",
      "Date: <next two weeks> (see 43:18)\n",
      "Message: Hi Marc, last we spoke, it was important to test the workflow into assigning it to writers, getting pieces written, and pushing it directly into your sandbox site. I have extended Taylor's trial for another week. Wanted to reconnect to see if you’re ready to make a decision to proceed or not.\n",
      "\n",
      "-----------------------------------\n",
      "\n",
      "baselifesciences: \n",
      "Priority: “Schedule a workshop to focus on a feature that the team might want to use but haven't had time to dive into\" (see 8:39)\n",
      "Event: “Team's availability for a workshop” (see 9:26)\n",
      "Date: <September or October> (see 9:26)\n",
      "Message: Hi Jonathan, last we spoke, it was important to schedule a workshop to focus on a feature that the team might want to use but haven't had time to dive into. Wanted to reconnect to see if you’re ready to proceed with scheduling this workshop in September or October.\n",
      "\n",
      "-----------------------------------\n",
      "\n",
      "bookstar: \n",
      "Priority: “Discuss social selling and SEO improvements with Derek and Annie\" (see 32:45 and 33:06)\n",
      "Event: “Follow-up meeting with Derek and Annie” (see 38:26)\n",
      "Date: <first week of June> (see 38:26)\n",
      "Message: Hi Kate, last we spoke, it was important to discuss social selling and SEO improvements with Derek and Annie. I have scheduled a follow-up meeting for the first week of June. Wanted to reconnect to see if you’re ready to proceed.\n",
      "\n",
      "-----------------------------------\n",
      "\n",
      "calmsea: \n",
      "Priority: “Discuss internally about using Acme's platform and freelance writers\" (see 27:37)\n",
      "Event: “Internal discussion about content strategy” (see 27:37)\n",
      "Date: <end of next week> (see 28:43)\n",
      "Message: Hi Andi and Jodi, last we spoke, it was important to discuss internally about using Acme's platform and freelance writers. Wanted to reconnect to see if you’re ready to proceed by the end of next week.\n",
      "\n",
      "-----------------------------------\n",
      "\n",
      "deel: \n",
      "Priority: “Automate social media amplification and streamline content distribution\" (see 4:18 and 6:49)\n",
      "Event: “Conversation with CEO about budget and approval” (see 44:23)\n",
      "Date: <next week> (see 44:23)\n",
      "Message: Hi Guillermo, last we spoke, it was important to automate social media amplification and streamline content distribution. I know you have a conversation with your CEO about budget and approval next week. Wanted to reconnect to see if you’re ready to proceed with Acme.\n",
      "\n",
      "-----------------------------------\n",
      "\n",
      "explorer: \n",
      "Priority: “Test Starlink platform with current setup and prepare for a follow-up deep dive meeting\" (see 45:45)\n",
      "Event: “Follow-up deep dive meeting with lead” (see 45:45)\n",
      "Date: <two weeks from now> (see 45:45)\n",
      "Message: Hi Lyle, last we spoke, it was important to test the Starlink platform with your current setup and prepare for a follow-up deep dive meeting with your lead. Wanted to reconnect to see if you’re ready to proceed.\n",
      "\n",
      "-----------------------------------\n",
      "\n",
      "keeper: \n",
      "Priority: “Ensure Webflow performance optimization and migration from Ghost\" (see 1:21 and 4:14)\n",
      "Event: “Technical team review and decision-making” (see 8:17 and 27:00)\n",
      "Date: <next two to three weeks> (see 8:17)\n",
      "Message: Hi Ryan, last we spoke, it was important to ensure Webflow performance optimization and migration from Ghost. You mentioned needing your technical team to review and make a decision within the next two to three weeks. Wanted to reconnect to see if you’re ready to proceed.\n",
      "\n",
      "-----------------------------------\n",
      "\n",
      "lasebane: \n",
      "Priority: “Explore AI tools for content creation and sentiment analysis\" (see 19:27 and 26:40)\n",
      "Event: “Hiring in-house SEO specialist” (see 17:43)\n",
      "Date: <next three to four months> (see 17:43)\n",
      "Message: Hi Saad, last we spoke, you were exploring AI tools for content creation and sentiment analysis. You mentioned you’d be hiring an in-house SEO specialist in the next three to four months. Wanted to reconnect to see if you’re ready to proceed with Acme.\n",
      "\n",
      "-----------------------------------\n",
      "\n",
      "mode: \n",
      "Priority: “Review Acme info sent by Ryan, prepare relevant call recordings for next demo\" (see 18:57)\n",
      "Event: “Schedule follow-up demo with Swati for first week of November, same time” (see 19:43)\n",
      "Date: <first week of November> (see 19:43)\n",
      "Message: Hi Swati, hope your conference in Copenhagen went well. When we last spoke, you were interested in reviewing the Acme info sent by Ryan and preparing relevant call recordings for our next demo. Wanted to reconnect to see if you’re ready to proceed with scheduling the follow-up demo for the first week of November.\n",
      "\n",
      "-----------------------------------\n",
      "\n",
      "ss: \n",
      "Priority: “Schedule a demo for content strategy and amplification\" (see 20:07 and 21:01)\n",
      "Event: “Content strategy meeting completion” (see 19:46)\n",
      "Date: <November 21st>\n",
      "Message: Hi Alex, last we spoke, it was important to schedule a demo for content strategy and amplification after your content strategy meeting. I have scheduled a demo for November 21st at 3 PM Eastern. Please ensure your CEO and content marketing manager are available. Looking forward to it!\n",
      "\n",
      "-----------------------------------\n",
      "\n",
      "stackcentral: \n",
      "Priority: “Sign up for a free trial and evaluate the tool for guest post quality and SEO optimization\" (see 29:47 and 32:16)\n",
      "Event: “Follow-up call to discuss trial experience” (see 35:49)\n",
      "Date: <6th of January> (see 36:25)\n",
      "Message: Hi Monika and Maria, hope you had a great holiday season. When we last spoke, you were going to sign up for a free trial and evaluate the tool for guest post quality and SEO optimization. Wanted to reconnect to see if you’re ready to discuss your trial experience on the 6th of January.\n",
      "\n",
      "-----------------------------------\n",
      "\n",
      "xp: \n",
      "Priority: “Set up account and ensure permissions for cloud and VCS integrations before POC kickoff call\" (see 2:26 and 3:11)\n",
      "Event: “POC kickoff call next week” (see 0:17 and 3:11)\n",
      "Date: <next week> (see 3:11)\n",
      "Message: Hi Mike, last we spoke, it was important to set up your account and ensure permissions for cloud and VCS integrations before the POC kickoff call next week. Wanted to reconnect to see if you’re ready to proceed.\n",
      "\n",
      "-----------------------------------\n",
      "\n"
     ]
    }
   ],
   "source": [
    "for k,v in transcripts.items():\n",
    "    res = compiled(sales_call_transcript = v)\n",
    "    print(f\"{k}: \")\n",
    "    print(res.hidden_action_item)\n",
    "    print(\"\\n-----------------------------------\\n\")"
   ]
  },
  {
   "cell_type": "code",
   "execution_count": null,
   "metadata": {},
   "outputs": [],
   "source": []
  },
  {
   "cell_type": "markdown",
   "metadata": {},
   "source": [
    "## MIPRO"
   ]
  },
  {
   "cell_type": "code",
   "execution_count": 47,
   "metadata": {},
   "outputs": [],
   "source": [
    "\n",
    "\n",
    "class GenerateInstruction(dspy.Signature):\n",
    "    \"\"\"You are an instruction optimizer for large language models. I will give you a ``signature`` of fields (sales_call_transcript and hidden_action_item) in English. Your task is to propose an instruction that will lead a good language model to perform the task well. Don't be afraid to be creative.\"\"\"\n",
    "\n",
    "    basic_instruction = dspy.InputField(desc=\"The initial instructions before optimization\")\n",
    "    proposed_instruction = dspy.OutputField(desc=\"The improved instructions for the language model\")\n",
    "    proposed_prefix_for_output_field = dspy.OutputField(\n",
    "        desc=\"The string at the end of the prompt, which will help the model start solving the task\",\n",
    "    )\n",
    "\n",
    "## this is not working right now\n",
    "# def mipro_metric(gt, pred, trace=None):\n",
    "#     alignment_criterion = \"How accurately does system predict the most important action items in the sales call transcript?\"\n",
    "#     return dspy.TypedPredictor(GenerateInstruction)(criterion=alignment_criterion,\n",
    "#         basic_instruction=gt.sales_call_transcript,\n",
    "#         proposed_instruction=gt.hidden_action_item,\n",
    "#         predicted_answer=pred.hidden_action_item\n",
    "#     )"
   ]
  },
  {
   "cell_type": "code",
   "execution_count": null,
   "metadata": {},
   "outputs": [],
   "source": [
    "from dspy.teleprompt import MIPROv2\n",
    "\n",
    "teleprompter = MIPROv2(\n",
    "    metric=metric,\n",
    "    num_candidates=7,\n",
    "    init_temperature=0.5,\n",
    "    verbose=True,\n",
    "    num_threads=4,\n",
    "    task_model=lm,\n",
    "    prompt_model=lm,\n",
    ")\n",
    "\n",
    "print(f\"Optimizing program with MIPRO...\")\n",
    "optimized_program = teleprompter.compile(\n",
    "    action_item.deepcopy(),\n",
    "    trainset=labeled_dataset,\n",
    "    max_bootstrapped_demos=3,\n",
    "    max_labeled_demos=4,\n",
    "    num_trials=5,\n",
    "    minibatch_size=2,\n",
    "    minibatch_full_eval_steps=2,\n",
    "    minibatch=True, \n",
    "    requires_permission_to_run=False,\n",
    ")"
   ]
  },
  {
   "cell_type": "code",
   "execution_count": 21,
   "metadata": {},
   "outputs": [],
   "source": [
    "# optimized_program.save(r'dspy_files\\mipro.json')"
   ]
  },
  {
   "cell_type": "markdown",
   "metadata": {},
   "source": [
    "### MIPRO result first iteration"
   ]
  },
  {
   "cell_type": "code",
   "execution_count": 27,
   "metadata": {},
   "outputs": [
    {
     "name": "stdout",
     "output_type": "stream",
     "text": [
      "4tools: \n",
      "Priority: “Test the workflow into assigning it to writers, getting pieces written, and pushing it directly into our sandbox site\" (see 41:04)\n",
      "Event: “Taylor's trial extension” (see 41:53)\n",
      "Date: <next two weeks> (see 43:18)\n",
      "Message: Hi Marc, last we spoke, it was important to test the workflow into assigning it to writers, getting pieces written, and pushing it directly into your sandbox site. I have extended Taylor's trial for another week. Wanted to reconnect to see if you’re ready to make a decision to proceed or not.\n",
      "\n",
      "-----------------------------------\n",
      "\n",
      "baselifesciences: \n",
      "Priority: “Schedule a workshop to focus on a feature that the team might want to use but haven't had time to dive into\" (see 8:39)\n",
      "Event: “Team's availability in September or October” (see 8:39)\n",
      "Date: <September or October> (see 8:39)\n",
      "Message: Hi Jonathan, last we spoke, it was important to schedule a workshop to focus on a feature that the team might want to use but haven't had time to dive into. Wanted to reconnect to see if you’re ready to proceed with scheduling the workshop in September or October.\n",
      "\n",
      "-----------------------------------\n",
      "\n",
      "bookstar: \n",
      "Priority: “Improve LinkedIn social selling and SEO strategy\" (see 2:03 and 6:01)\n",
      "Event: “Follow-up call with Derek and Annie” (see 31:24)\n",
      "Date: <first week of June> (see 38:26)\n",
      "Message: Hi Kate, last we spoke, it was important to improve LinkedIn social selling and SEO strategy. Wanted to reconnect to see if you’re ready to proceed with the next steps.\n",
      "\n",
      "-----------------------------------\n",
      "\n",
      "calmsea: \n",
      "Priority: “Discuss internally about using Acme's platform and freelance writers\" (see 27:37)\n",
      "Event: “Follow-up email from Homer” (see 28:54)\n",
      "Date: <end of next week> (see 28:43)\n",
      "Message: Hi Andi and Jodi, last we spoke, you were considering using Acme's platform with your freelance writers. Wanted to reconnect to see if you’re ready to proceed or need any further assistance.\n",
      "\n",
      "-----------------------------------\n",
      "\n",
      "deel: \n",
      "Priority: “Automate social media amplification and streamline content distribution\" (see 5:09 and 6:49)\n",
      "Event: “Follow-up conversation with CEO” (see 44:23)\n",
      "Date: <next week> (see 44:23)\n",
      "Message: Hi Guillermo, last we spoke, it was important to automate social media amplification and streamline content distribution. Wanted to reconnect to see if you’re ready to proceed after your conversation with your CEO next week.\n",
      "\n",
      "-----------------------------------\n",
      "\n",
      "explorer: \n",
      "Priority: “Test Starlink platform with current deployments and gather feedback from the software lead\" (see 45:45)\n",
      "Event: “Follow-up meeting with software lead” (see 45:45)\n",
      "Date: <next two weeks> (see 45:45)\n",
      "Message: Hi Lyle, last we spoke, it was important to test the Starlink platform with your current deployments and gather feedback from your software lead. Wanted to reconnect to see if you’re ready to proceed with the follow-up meeting.\n",
      "\n",
      "-----------------------------------\n",
      "\n",
      "keeper: \n",
      "Priority: “Ensure Webflow performance optimization and migration from Ghost\" (see 4:14 and 5:26)\n",
      "Event: “Follow-up demo with Ryan, Amy, and Danielle” (see 28:27)\n",
      "Date: <March 28th, morning Pacific> (see 28:59)\n",
      "Message: Hi Ryan, last we spoke, it was important to ensure Webflow performance optimization and migration from Ghost. Wanted to reconnect to see if you’re ready for the follow-up demo with Amy and Danielle on March 28th.\n",
      "\n",
      "-----------------------------------\n",
      "\n",
      "lasebane: \n",
      "Priority: “Explore sentiment analysis and SEO tools for cross-selling and content optimization\" (see 6:41 and 16:47)\n",
      "Event: “Follow-up call in a couple of months” (see 36:00)\n",
      "Date: <two months from now> (see 36:00)\n",
      "Message: Hi Saad, last we spoke, it was important to explore sentiment analysis and SEO tools for cross-selling and content optimization. Wanted to reconnect to see if you’re ready to proceed with the next steps.\n",
      "\n",
      "-----------------------------------\n",
      "\n",
      "mode: \n",
      "Priority: “Increase thought leadership as part of ABM execution\" (see 22:42)\n",
      "Event: “User conference in October” (see 26:00)\n",
      "Date: <first week of November> (see 26:00)\n",
      "Message: Hi Swati, hope your conference in Copenhagen went well. When we last spoke, you were wrapping up the ABM account research phase. You mentioned you’d be able to enter the execution phase. Wanted to reconnect to see if you’re ready to improve Jan’s LinkedIn presence to reach key decision makers in November.\n",
      "\n",
      "-----------------------------------\n",
      "\n",
      "ss: \n",
      "Priority: “Schedule a demo for content strategy and amplification\" (see 20:07 and 21:01)\n",
      "Event: “Content strategy meeting completion” (see 24:45)\n",
      "Date: <November 21st> (see 21:11)\n",
      "Message: Hi Alex, hope your content strategy meeting went well. When we last spoke, you were planning to complete your content strategy overhaul. Wanted to reconnect to see if you’re ready to schedule a demo for content strategy and amplification on November 21st.\n",
      "\n",
      "-----------------------------------\n",
      "\n",
      "stackcentral: \n",
      "Priority: “Sign up for a free trial and evaluate the tool for guest post quality and SEO optimization\" (see 29:47 and 32:16)\n",
      "Event: “Follow-up call to discuss trial experience” (see 35:49)\n",
      "Date: <6th of January> (see 36:39)\n",
      "Message: Hi Monika and Maria, hope you had a great Christmas and New Year. When we last spoke, you were going to sign up for a free trial and evaluate the tool for guest post quality and SEO optimization. Wanted to reconnect to see if you’re ready to discuss your trial experience on the 6th of January.\n",
      "\n",
      "-----------------------------------\n",
      "\n",
      "xp: \n",
      "Priority: “Set up cloud and VCS integrations with the right permissions before POC kickoff call\" (see 2:15 and 2:55)\n",
      "Event: “POC kickoff call next week” (see 0:17 and 3:18)\n",
      "Date: <next week> (see 3:18)\n",
      "Message: Hi Mike, last we spoke, it was important to set up cloud and VCS integrations with the right permissions before the POC kickoff call. Wanted to reconnect to see if you’re ready to proceed with the setup.\n",
      "\n",
      "-----------------------------------\n",
      "\n"
     ]
    }
   ],
   "source": [
    "for k,v in transcripts.items():\n",
    "    res = optimized_program(sales_call_transcript = v)\n",
    "    print(f\"{k}: \")\n",
    "    print(res.hidden_action_item)\n",
    "    print(\"\\n-----------------------------------\\n\")"
   ]
  },
  {
   "cell_type": "code",
   "execution_count": null,
   "metadata": {},
   "outputs": [],
   "source": []
  },
  {
   "cell_type": "code",
   "execution_count": null,
   "metadata": {},
   "outputs": [],
   "source": []
  }
 ],
 "metadata": {
  "kernelspec": {
   "display_name": ".venv",
   "language": "python",
   "name": "python3"
  },
  "language_info": {
   "codemirror_mode": {
    "name": "ipython",
    "version": 3
   },
   "file_extension": ".py",
   "mimetype": "text/x-python",
   "name": "python",
   "nbconvert_exporter": "python",
   "pygments_lexer": "ipython3",
   "version": "3.11.5"
  }
 },
 "nbformat": 4,
 "nbformat_minor": 2
}
